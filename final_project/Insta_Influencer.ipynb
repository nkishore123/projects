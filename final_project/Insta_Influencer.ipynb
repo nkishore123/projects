{
 "cells": [
  {
   "cell_type": "code",
   "execution_count": 1,
   "id": "a1448353",
   "metadata": {},
   "outputs": [],
   "source": [
    "import numpy as np\n",
    "import pandas as pd\n",
    "import matplotlib.pyplot as plt\n",
    "import seaborn as sns"
   ]
  },
  {
   "cell_type": "code",
   "execution_count": 2,
   "id": "70eb3ce7",
   "metadata": {},
   "outputs": [],
   "source": [
    "df = pd.read_csv(\"C:/Users/kisho/Datasets/Influencer.csv\")"
   ]
  },
  {
   "cell_type": "code",
   "execution_count": 3,
   "id": "db8eb3a4",
   "metadata": {
    "scrolled": false
   },
   "outputs": [
    {
     "data": {
      "text/html": [
       "<div>\n",
       "<style scoped>\n",
       "    .dataframe tbody tr th:only-of-type {\n",
       "        vertical-align: middle;\n",
       "    }\n",
       "\n",
       "    .dataframe tbody tr th {\n",
       "        vertical-align: top;\n",
       "    }\n",
       "\n",
       "    .dataframe thead th {\n",
       "        text-align: right;\n",
       "    }\n",
       "</style>\n",
       "<table border=\"1\" class=\"dataframe\">\n",
       "  <thead>\n",
       "    <tr style=\"text-align: right;\">\n",
       "      <th></th>\n",
       "      <th>Rank</th>\n",
       "      <th>Channel Info</th>\n",
       "      <th>Influence Score</th>\n",
       "      <th>Followers</th>\n",
       "      <th>Avg. Likes</th>\n",
       "      <th>Posts</th>\n",
       "      <th>60-Day Eng Rate</th>\n",
       "      <th>New Post Avg. Likes</th>\n",
       "      <th>Total Likes</th>\n",
       "      <th>Country Or Region</th>\n",
       "    </tr>\n",
       "  </thead>\n",
       "  <tbody>\n",
       "    <tr>\n",
       "      <th>0</th>\n",
       "      <td>1</td>\n",
       "      <td>\\ncristiano</td>\n",
       "      <td>92</td>\n",
       "      <td>485.2m</td>\n",
       "      <td>8.7m</td>\n",
       "      <td>3.4k</td>\n",
       "      <td>0.013</td>\n",
       "      <td>6.3m</td>\n",
       "      <td>29.1b</td>\n",
       "      <td>Spain</td>\n",
       "    </tr>\n",
       "    <tr>\n",
       "      <th>1</th>\n",
       "      <td>2</td>\n",
       "      <td>kyliejenner</td>\n",
       "      <td>91</td>\n",
       "      <td>370.7m</td>\n",
       "      <td>8.2m</td>\n",
       "      <td>7.0k</td>\n",
       "      <td>0.014</td>\n",
       "      <td>5.0m</td>\n",
       "      <td>57.4b</td>\n",
       "      <td>United States</td>\n",
       "    </tr>\n",
       "    <tr>\n",
       "      <th>2</th>\n",
       "      <td>3</td>\n",
       "      <td>\\nleomessi</td>\n",
       "      <td>90</td>\n",
       "      <td>363.9m</td>\n",
       "      <td>6.7m</td>\n",
       "      <td>915</td>\n",
       "      <td>0.010</td>\n",
       "      <td>3.5m</td>\n",
       "      <td>6.1b</td>\n",
       "      <td>NaN</td>\n",
       "    </tr>\n",
       "    <tr>\n",
       "      <th>3</th>\n",
       "      <td>4</td>\n",
       "      <td>\\nselenagomez</td>\n",
       "      <td>93</td>\n",
       "      <td>348.8m</td>\n",
       "      <td>6.1m</td>\n",
       "      <td>1.9k</td>\n",
       "      <td>0.005</td>\n",
       "      <td>1.7m</td>\n",
       "      <td>11.4b</td>\n",
       "      <td>United States</td>\n",
       "    </tr>\n",
       "    <tr>\n",
       "      <th>4</th>\n",
       "      <td>5</td>\n",
       "      <td>\\ntherock</td>\n",
       "      <td>91</td>\n",
       "      <td>339.4m</td>\n",
       "      <td>1.8m</td>\n",
       "      <td>6.8k</td>\n",
       "      <td>0.003</td>\n",
       "      <td>932.0k</td>\n",
       "      <td>12.6b</td>\n",
       "      <td>United States</td>\n",
       "    </tr>\n",
       "    <tr>\n",
       "      <th>...</th>\n",
       "      <td>...</td>\n",
       "      <td>...</td>\n",
       "      <td>...</td>\n",
       "      <td>...</td>\n",
       "      <td>...</td>\n",
       "      <td>...</td>\n",
       "      <td>...</td>\n",
       "      <td>...</td>\n",
       "      <td>...</td>\n",
       "      <td>...</td>\n",
       "    </tr>\n",
       "    <tr>\n",
       "      <th>195</th>\n",
       "      <td>196</td>\n",
       "      <td>\\nkhabib_nurmagomedov</td>\n",
       "      <td>63</td>\n",
       "      <td>33.6m</td>\n",
       "      <td>680.6k</td>\n",
       "      <td>4.6k</td>\n",
       "      <td>0.009</td>\n",
       "      <td>305.7k</td>\n",
       "      <td>3.1b</td>\n",
       "      <td>Russia</td>\n",
       "    </tr>\n",
       "    <tr>\n",
       "      <th>196</th>\n",
       "      <td>197</td>\n",
       "      <td>\\ndanbilzerian</td>\n",
       "      <td>84</td>\n",
       "      <td>33.6m</td>\n",
       "      <td>2.2m</td>\n",
       "      <td>1.4k</td>\n",
       "      <td>0.064</td>\n",
       "      <td>2.1m</td>\n",
       "      <td>3.0b</td>\n",
       "      <td>Canada</td>\n",
       "    </tr>\n",
       "    <tr>\n",
       "      <th>197</th>\n",
       "      <td>198</td>\n",
       "      <td>\\nraisa6690</td>\n",
       "      <td>80</td>\n",
       "      <td>33.6m</td>\n",
       "      <td>227.8k</td>\n",
       "      <td>4.2k</td>\n",
       "      <td>0.003</td>\n",
       "      <td>103.2k</td>\n",
       "      <td>955.9m</td>\n",
       "      <td>Indonesia</td>\n",
       "    </tr>\n",
       "    <tr>\n",
       "      <th>198</th>\n",
       "      <td>199</td>\n",
       "      <td>\\nluansantana</td>\n",
       "      <td>79</td>\n",
       "      <td>33.5m</td>\n",
       "      <td>193.3k</td>\n",
       "      <td>865</td>\n",
       "      <td>0.003</td>\n",
       "      <td>82.6k</td>\n",
       "      <td>167.2m</td>\n",
       "      <td>Brazil</td>\n",
       "    </tr>\n",
       "    <tr>\n",
       "      <th>199</th>\n",
       "      <td>200</td>\n",
       "      <td>\\nnancyajram</td>\n",
       "      <td>81</td>\n",
       "      <td>33.4m</td>\n",
       "      <td>382.5k</td>\n",
       "      <td>3.8k</td>\n",
       "      <td>0.004</td>\n",
       "      <td>128.2k</td>\n",
       "      <td>1.5b</td>\n",
       "      <td>France</td>\n",
       "    </tr>\n",
       "  </tbody>\n",
       "</table>\n",
       "<p>200 rows × 10 columns</p>\n",
       "</div>"
      ],
      "text/plain": [
       "     Rank           Channel Info  Influence Score Followers Avg. Likes Posts  \\\n",
       "0       1            \\ncristiano               92    485.2m       8.7m  3.4k   \n",
       "1       2            kyliejenner               91    370.7m       8.2m  7.0k   \n",
       "2       3             \\nleomessi               90    363.9m       6.7m   915   \n",
       "3       4          \\nselenagomez               93    348.8m       6.1m  1.9k   \n",
       "4       5              \\ntherock               91    339.4m       1.8m  6.8k   \n",
       "..    ...                    ...              ...       ...        ...   ...   \n",
       "195   196  \\nkhabib_nurmagomedov               63     33.6m     680.6k  4.6k   \n",
       "196   197         \\ndanbilzerian               84     33.6m       2.2m  1.4k   \n",
       "197   198            \\nraisa6690               80     33.6m     227.8k  4.2k   \n",
       "198   199          \\nluansantana               79     33.5m     193.3k   865   \n",
       "199   200           \\nnancyajram               81     33.4m     382.5k  3.8k   \n",
       "\n",
       "     60-Day Eng Rate New Post Avg. Likes Total Likes Country Or Region  \n",
       "0              0.013                6.3m       29.1b             Spain  \n",
       "1              0.014                5.0m       57.4b     United States  \n",
       "2              0.010                3.5m        6.1b               NaN  \n",
       "3              0.005                1.7m       11.4b     United States  \n",
       "4              0.003              932.0k       12.6b     United States  \n",
       "..               ...                 ...         ...               ...  \n",
       "195            0.009              305.7k        3.1b            Russia  \n",
       "196            0.064                2.1m        3.0b            Canada  \n",
       "197            0.003              103.2k      955.9m         Indonesia  \n",
       "198            0.003               82.6k      167.2m            Brazil  \n",
       "199            0.004              128.2k        1.5b            France  \n",
       "\n",
       "[200 rows x 10 columns]"
      ]
     },
     "execution_count": 3,
     "metadata": {},
     "output_type": "execute_result"
    }
   ],
   "source": [
    "df"
   ]
  },
  {
   "cell_type": "code",
   "execution_count": 4,
   "id": "695a46c2",
   "metadata": {
    "scrolled": true
   },
   "outputs": [
    {
     "data": {
      "text/plain": [
       "Rank                    0\n",
       "Channel Info            0\n",
       "Influence Score         0\n",
       "Followers               0\n",
       "Avg. Likes              0\n",
       "Posts                   0\n",
       "60-Day Eng Rate         0\n",
       "New Post Avg. Likes     0\n",
       "Total Likes             0\n",
       "Country Or Region      63\n",
       "dtype: int64"
      ]
     },
     "execution_count": 4,
     "metadata": {},
     "output_type": "execute_result"
    }
   ],
   "source": [
    "df.isna().sum()"
   ]
  },
  {
   "cell_type": "code",
   "execution_count": 5,
   "id": "9ff05df0",
   "metadata": {},
   "outputs": [],
   "source": [
    "countries = df['Country Or Region'].dropna().unique()\n",
    "df['Country Or Region'] = df['Country Or Region'].apply(lambda x: np.random.choice(countries) if pd.isnull(x) else x)"
   ]
  },
  {
   "cell_type": "code",
   "execution_count": 6,
   "id": "be17fd0d",
   "metadata": {
    "scrolled": true
   },
   "outputs": [
    {
     "data": {
      "text/plain": [
       "Rank                     int64\n",
       "Channel Info            object\n",
       "Influence Score          int64\n",
       "Followers               object\n",
       "Avg. Likes              object\n",
       "Posts                   object\n",
       "60-Day Eng Rate        float64\n",
       "New Post Avg. Likes     object\n",
       "Total Likes             object\n",
       "Country Or Region       object\n",
       "dtype: object"
      ]
     },
     "execution_count": 6,
     "metadata": {},
     "output_type": "execute_result"
    }
   ],
   "source": [
    "df.dtypes"
   ]
  },
  {
   "cell_type": "code",
   "execution_count": 7,
   "id": "a987c435",
   "metadata": {},
   "outputs": [],
   "source": [
    "df['Channel Info'] = df['Channel Info'].apply(lambda x: x.strip('\\n'))"
   ]
  },
  {
   "cell_type": "code",
   "execution_count": 8,
   "id": "bce0c189",
   "metadata": {},
   "outputs": [],
   "source": [
    "cols = ['Followers','Avg. Likes','Posts','New Post Avg. Likes','Total Likes']"
   ]
  },
  {
   "cell_type": "code",
   "execution_count": 9,
   "id": "cdb4e2bb",
   "metadata": {},
   "outputs": [],
   "source": [
    "def get_measure(x):\n",
    "    return x[-1]"
   ]
  },
  {
   "cell_type": "markdown",
   "id": "f60db554",
   "metadata": {},
   "source": [
    "Followers"
   ]
  },
  {
   "cell_type": "code",
   "execution_count": 10,
   "id": "f5adc488",
   "metadata": {},
   "outputs": [
    {
     "data": {
      "text/plain": [
       "m    200\n",
       "Name: Followers, dtype: int64"
      ]
     },
     "execution_count": 10,
     "metadata": {},
     "output_type": "execute_result"
    }
   ],
   "source": [
    "df['Followers'].apply(get_measure).value_counts()"
   ]
  },
  {
   "cell_type": "code",
   "execution_count": 11,
   "id": "59252cda",
   "metadata": {},
   "outputs": [],
   "source": [
    "df['Followers(m)'] = df['Followers'].apply(lambda x: float(x[:-1]))\n",
    "df.drop('Followers',axis = 1,inplace=True)"
   ]
  },
  {
   "cell_type": "code",
   "execution_count": null,
   "id": "fbe0f0a4",
   "metadata": {},
   "outputs": [],
   "source": []
  },
  {
   "cell_type": "markdown",
   "id": "bf512c36",
   "metadata": {},
   "source": [
    "Avg. Likes"
   ]
  },
  {
   "cell_type": "code",
   "execution_count": 12,
   "id": "c82c08f9",
   "metadata": {},
   "outputs": [
    {
     "data": {
      "text/plain": [
       "m    106\n",
       "k     94\n",
       "Name: Avg. Likes, dtype: int64"
      ]
     },
     "execution_count": 12,
     "metadata": {},
     "output_type": "execute_result"
    }
   ],
   "source": [
    "df['Avg. Likes'].apply(get_measure).value_counts()"
   ]
  },
  {
   "cell_type": "code",
   "execution_count": 13,
   "id": "beb4fd02",
   "metadata": {},
   "outputs": [],
   "source": [
    "def k_to_m(x):\n",
    "    if x[-1]=='k':\n",
    "        n = float(x[:-1])/1000\n",
    "    elif x[-1]=='m':\n",
    "        n = float(x[:-1])\n",
    "    else:\n",
    "        n = float(x)\n",
    "    return round(n,2)"
   ]
  },
  {
   "cell_type": "code",
   "execution_count": 14,
   "id": "17d672ea",
   "metadata": {},
   "outputs": [],
   "source": [
    "df['Avg_Likes(m)'] = df['Avg. Likes'].apply(k_to_m)\n",
    "df.drop('Avg. Likes',axis = 1,inplace=True)"
   ]
  },
  {
   "cell_type": "markdown",
   "id": "43c9b855",
   "metadata": {},
   "source": [
    "Posts"
   ]
  },
  {
   "cell_type": "code",
   "execution_count": 15,
   "id": "605e44f0",
   "metadata": {},
   "outputs": [
    {
     "data": {
      "text/plain": [
       "k    146\n",
       "5     11\n",
       "9     11\n",
       "0      7\n",
       "7      6\n",
       "1      4\n",
       "2      4\n",
       "3      3\n",
       "4      3\n",
       "8      3\n",
       "6      2\n",
       "Name: Posts, dtype: int64"
      ]
     },
     "execution_count": 15,
     "metadata": {},
     "output_type": "execute_result"
    }
   ],
   "source": [
    "df['Posts'].apply(get_measure).value_counts()"
   ]
  },
  {
   "cell_type": "code",
   "execution_count": 16,
   "id": "01a71637",
   "metadata": {},
   "outputs": [],
   "source": [
    "def to_k(x):\n",
    "    if x[-1] == 'k':\n",
    "        n = float(x[:-1])\n",
    "    else:\n",
    "        n = float(x)/1000\n",
    "    return n"
   ]
  },
  {
   "cell_type": "code",
   "execution_count": 17,
   "id": "9c20a71e",
   "metadata": {},
   "outputs": [],
   "source": [
    "df['Posts(k)'] = df['Posts'].apply(to_k)\n",
    "df.drop('Posts',axis = 1,inplace=True)"
   ]
  },
  {
   "cell_type": "markdown",
   "id": "8e943c32",
   "metadata": {},
   "source": [
    "New Post Avg. Likes"
   ]
  },
  {
   "cell_type": "code",
   "execution_count": 18,
   "id": "c89988a1",
   "metadata": {
    "scrolled": false
   },
   "outputs": [
    {
     "data": {
      "text/plain": [
       "k    134\n",
       "m     65\n",
       "0      1\n",
       "Name: New Post Avg. Likes, dtype: int64"
      ]
     },
     "execution_count": 18,
     "metadata": {},
     "output_type": "execute_result"
    }
   ],
   "source": [
    "df['New Post Avg. Likes'].apply(get_measure).value_counts()"
   ]
  },
  {
   "cell_type": "code",
   "execution_count": 19,
   "id": "646e4cff",
   "metadata": {},
   "outputs": [],
   "source": [
    "df['New Post Avg. Likes(m)'] = df['New Post Avg. Likes'].apply(k_to_m)\n",
    "df.drop('New Post Avg. Likes',axis=1, inplace=True)"
   ]
  },
  {
   "cell_type": "markdown",
   "id": "d6b7291c",
   "metadata": {},
   "source": [
    "Total Likes"
   ]
  },
  {
   "cell_type": "code",
   "execution_count": 20,
   "id": "d5fd230a",
   "metadata": {},
   "outputs": [
    {
     "data": {
      "text/plain": [
       "b    152\n",
       "m     48\n",
       "Name: Total Likes, dtype: int64"
      ]
     },
     "execution_count": 20,
     "metadata": {},
     "output_type": "execute_result"
    }
   ],
   "source": [
    "df['Total Likes'].apply(get_measure).value_counts()"
   ]
  },
  {
   "cell_type": "code",
   "execution_count": 21,
   "id": "b7e7e5a6",
   "metadata": {},
   "outputs": [],
   "source": [
    "def b_to_m(x):\n",
    "    if x[-1]=='m':\n",
    "        n = float(x[:-1])\n",
    "    elif x[-1]=='b':\n",
    "        n = float(x[:-1])*1000\n",
    "    return round(n,2)"
   ]
  },
  {
   "cell_type": "code",
   "execution_count": 22,
   "id": "7bc95c6b",
   "metadata": {},
   "outputs": [],
   "source": [
    "df['Total_Likes(m)'] = df['Total Likes'].apply(b_to_m)\n",
    "df.drop('Total Likes',axis=1,inplace=True)"
   ]
  },
  {
   "cell_type": "code",
   "execution_count": 23,
   "id": "aa703c72",
   "metadata": {
    "scrolled": true
   },
   "outputs": [
    {
     "data": {
      "text/plain": [
       "Rank                        int64\n",
       "Channel Info               object\n",
       "Influence Score             int64\n",
       "60-Day Eng Rate           float64\n",
       "Country Or Region          object\n",
       "Followers(m)              float64\n",
       "Avg_Likes(m)              float64\n",
       "Posts(k)                  float64\n",
       "New Post Avg. Likes(m)    float64\n",
       "Total_Likes(m)            float64\n",
       "dtype: object"
      ]
     },
     "execution_count": 23,
     "metadata": {},
     "output_type": "execute_result"
    }
   ],
   "source": [
    "df.dtypes"
   ]
  },
  {
   "cell_type": "code",
   "execution_count": 24,
   "id": "7c7ff9f8",
   "metadata": {
    "scrolled": true
   },
   "outputs": [
    {
     "data": {
      "text/html": [
       "<div>\n",
       "<style scoped>\n",
       "    .dataframe tbody tr th:only-of-type {\n",
       "        vertical-align: middle;\n",
       "    }\n",
       "\n",
       "    .dataframe tbody tr th {\n",
       "        vertical-align: top;\n",
       "    }\n",
       "\n",
       "    .dataframe thead th {\n",
       "        text-align: right;\n",
       "    }\n",
       "</style>\n",
       "<table border=\"1\" class=\"dataframe\">\n",
       "  <thead>\n",
       "    <tr style=\"text-align: right;\">\n",
       "      <th></th>\n",
       "      <th>Rank</th>\n",
       "      <th>Channel Info</th>\n",
       "      <th>Influence Score</th>\n",
       "      <th>60-Day Eng Rate</th>\n",
       "      <th>Country Or Region</th>\n",
       "      <th>Followers(m)</th>\n",
       "      <th>Avg_Likes(m)</th>\n",
       "      <th>Posts(k)</th>\n",
       "      <th>New Post Avg. Likes(m)</th>\n",
       "      <th>Total_Likes(m)</th>\n",
       "    </tr>\n",
       "  </thead>\n",
       "  <tbody>\n",
       "    <tr>\n",
       "      <th>0</th>\n",
       "      <td>1</td>\n",
       "      <td>cristiano</td>\n",
       "      <td>92</td>\n",
       "      <td>0.013</td>\n",
       "      <td>Spain</td>\n",
       "      <td>485.2</td>\n",
       "      <td>8.70</td>\n",
       "      <td>3.400</td>\n",
       "      <td>6.30</td>\n",
       "      <td>29100.0</td>\n",
       "    </tr>\n",
       "    <tr>\n",
       "      <th>1</th>\n",
       "      <td>2</td>\n",
       "      <td>kyliejenner</td>\n",
       "      <td>91</td>\n",
       "      <td>0.014</td>\n",
       "      <td>United States</td>\n",
       "      <td>370.7</td>\n",
       "      <td>8.20</td>\n",
       "      <td>7.000</td>\n",
       "      <td>5.00</td>\n",
       "      <td>57400.0</td>\n",
       "    </tr>\n",
       "    <tr>\n",
       "      <th>2</th>\n",
       "      <td>3</td>\n",
       "      <td>leomessi</td>\n",
       "      <td>90</td>\n",
       "      <td>0.010</td>\n",
       "      <td>Russia</td>\n",
       "      <td>363.9</td>\n",
       "      <td>6.70</td>\n",
       "      <td>0.915</td>\n",
       "      <td>3.50</td>\n",
       "      <td>6100.0</td>\n",
       "    </tr>\n",
       "    <tr>\n",
       "      <th>3</th>\n",
       "      <td>4</td>\n",
       "      <td>selenagomez</td>\n",
       "      <td>93</td>\n",
       "      <td>0.005</td>\n",
       "      <td>United States</td>\n",
       "      <td>348.8</td>\n",
       "      <td>6.10</td>\n",
       "      <td>1.900</td>\n",
       "      <td>1.70</td>\n",
       "      <td>11400.0</td>\n",
       "    </tr>\n",
       "    <tr>\n",
       "      <th>4</th>\n",
       "      <td>5</td>\n",
       "      <td>therock</td>\n",
       "      <td>91</td>\n",
       "      <td>0.003</td>\n",
       "      <td>United States</td>\n",
       "      <td>339.4</td>\n",
       "      <td>1.80</td>\n",
       "      <td>6.800</td>\n",
       "      <td>0.93</td>\n",
       "      <td>12600.0</td>\n",
       "    </tr>\n",
       "    <tr>\n",
       "      <th>...</th>\n",
       "      <td>...</td>\n",
       "      <td>...</td>\n",
       "      <td>...</td>\n",
       "      <td>...</td>\n",
       "      <td>...</td>\n",
       "      <td>...</td>\n",
       "      <td>...</td>\n",
       "      <td>...</td>\n",
       "      <td>...</td>\n",
       "      <td>...</td>\n",
       "    </tr>\n",
       "    <tr>\n",
       "      <th>195</th>\n",
       "      <td>196</td>\n",
       "      <td>khabib_nurmagomedov</td>\n",
       "      <td>63</td>\n",
       "      <td>0.009</td>\n",
       "      <td>Russia</td>\n",
       "      <td>33.6</td>\n",
       "      <td>0.68</td>\n",
       "      <td>4.600</td>\n",
       "      <td>0.31</td>\n",
       "      <td>3100.0</td>\n",
       "    </tr>\n",
       "    <tr>\n",
       "      <th>196</th>\n",
       "      <td>197</td>\n",
       "      <td>danbilzerian</td>\n",
       "      <td>84</td>\n",
       "      <td>0.064</td>\n",
       "      <td>Canada</td>\n",
       "      <td>33.6</td>\n",
       "      <td>2.20</td>\n",
       "      <td>1.400</td>\n",
       "      <td>2.10</td>\n",
       "      <td>3000.0</td>\n",
       "    </tr>\n",
       "    <tr>\n",
       "      <th>197</th>\n",
       "      <td>198</td>\n",
       "      <td>raisa6690</td>\n",
       "      <td>80</td>\n",
       "      <td>0.003</td>\n",
       "      <td>Indonesia</td>\n",
       "      <td>33.6</td>\n",
       "      <td>0.23</td>\n",
       "      <td>4.200</td>\n",
       "      <td>0.10</td>\n",
       "      <td>955.9</td>\n",
       "    </tr>\n",
       "    <tr>\n",
       "      <th>198</th>\n",
       "      <td>199</td>\n",
       "      <td>luansantana</td>\n",
       "      <td>79</td>\n",
       "      <td>0.003</td>\n",
       "      <td>Brazil</td>\n",
       "      <td>33.5</td>\n",
       "      <td>0.19</td>\n",
       "      <td>0.865</td>\n",
       "      <td>0.08</td>\n",
       "      <td>167.2</td>\n",
       "    </tr>\n",
       "    <tr>\n",
       "      <th>199</th>\n",
       "      <td>200</td>\n",
       "      <td>nancyajram</td>\n",
       "      <td>81</td>\n",
       "      <td>0.004</td>\n",
       "      <td>France</td>\n",
       "      <td>33.4</td>\n",
       "      <td>0.38</td>\n",
       "      <td>3.800</td>\n",
       "      <td>0.13</td>\n",
       "      <td>1500.0</td>\n",
       "    </tr>\n",
       "  </tbody>\n",
       "</table>\n",
       "<p>200 rows × 10 columns</p>\n",
       "</div>"
      ],
      "text/plain": [
       "     Rank         Channel Info  Influence Score  60-Day Eng Rate  \\\n",
       "0       1            cristiano               92            0.013   \n",
       "1       2          kyliejenner               91            0.014   \n",
       "2       3             leomessi               90            0.010   \n",
       "3       4          selenagomez               93            0.005   \n",
       "4       5              therock               91            0.003   \n",
       "..    ...                  ...              ...              ...   \n",
       "195   196  khabib_nurmagomedov               63            0.009   \n",
       "196   197         danbilzerian               84            0.064   \n",
       "197   198            raisa6690               80            0.003   \n",
       "198   199          luansantana               79            0.003   \n",
       "199   200           nancyajram               81            0.004   \n",
       "\n",
       "    Country Or Region  Followers(m)  Avg_Likes(m)  Posts(k)  \\\n",
       "0               Spain         485.2          8.70     3.400   \n",
       "1       United States         370.7          8.20     7.000   \n",
       "2              Russia         363.9          6.70     0.915   \n",
       "3       United States         348.8          6.10     1.900   \n",
       "4       United States         339.4          1.80     6.800   \n",
       "..                ...           ...           ...       ...   \n",
       "195            Russia          33.6          0.68     4.600   \n",
       "196            Canada          33.6          2.20     1.400   \n",
       "197         Indonesia          33.6          0.23     4.200   \n",
       "198            Brazil          33.5          0.19     0.865   \n",
       "199            France          33.4          0.38     3.800   \n",
       "\n",
       "     New Post Avg. Likes(m)  Total_Likes(m)  \n",
       "0                      6.30         29100.0  \n",
       "1                      5.00         57400.0  \n",
       "2                      3.50          6100.0  \n",
       "3                      1.70         11400.0  \n",
       "4                      0.93         12600.0  \n",
       "..                      ...             ...  \n",
       "195                    0.31          3100.0  \n",
       "196                    2.10          3000.0  \n",
       "197                    0.10           955.9  \n",
       "198                    0.08           167.2  \n",
       "199                    0.13          1500.0  \n",
       "\n",
       "[200 rows x 10 columns]"
      ]
     },
     "execution_count": 24,
     "metadata": {},
     "output_type": "execute_result"
    }
   ],
   "source": [
    "df"
   ]
  },
  {
   "cell_type": "markdown",
   "id": "63e56e6f",
   "metadata": {},
   "source": [
    "# 1. Are there any correlated features in the given dataset? If yes, state the correlation coefficient of the pair of features which are highly correlated."
   ]
  },
  {
   "cell_type": "code",
   "execution_count": 25,
   "id": "8af9e2d1",
   "metadata": {},
   "outputs": [
    {
     "name": "stderr",
     "output_type": "stream",
     "text": [
      "C:\\Users\\kisho\\AppData\\Local\\Temp\\ipykernel_13816\\3035769115.py:1: FutureWarning: The default value of numeric_only in DataFrame.corr is deprecated. In a future version, it will default to False. Select only valid columns or specify the value of numeric_only to silence this warning.\n",
      "  correlation = df.corr()\n"
     ]
    },
    {
     "data": {
      "text/html": [
       "<div>\n",
       "<style scoped>\n",
       "    .dataframe tbody tr th:only-of-type {\n",
       "        vertical-align: middle;\n",
       "    }\n",
       "\n",
       "    .dataframe tbody tr th {\n",
       "        vertical-align: top;\n",
       "    }\n",
       "\n",
       "    .dataframe thead th {\n",
       "        text-align: right;\n",
       "    }\n",
       "</style>\n",
       "<table border=\"1\" class=\"dataframe\">\n",
       "  <thead>\n",
       "    <tr style=\"text-align: right;\">\n",
       "      <th></th>\n",
       "      <th>Rank</th>\n",
       "      <th>Influence Score</th>\n",
       "      <th>60-Day Eng Rate</th>\n",
       "      <th>Followers(m)</th>\n",
       "      <th>Avg_Likes(m)</th>\n",
       "      <th>Posts(k)</th>\n",
       "      <th>New Post Avg. Likes(m)</th>\n",
       "      <th>Total_Likes(m)</th>\n",
       "    </tr>\n",
       "  </thead>\n",
       "  <tbody>\n",
       "    <tr>\n",
       "      <th>Rank</th>\n",
       "      <td>1.000000</td>\n",
       "      <td>-0.354843</td>\n",
       "      <td>0.028900</td>\n",
       "      <td>-0.698193</td>\n",
       "      <td>-0.277651</td>\n",
       "      <td>-0.058132</td>\n",
       "      <td>-0.272441</td>\n",
       "      <td>-0.465119</td>\n",
       "    </tr>\n",
       "    <tr>\n",
       "      <th>Influence Score</th>\n",
       "      <td>-0.354843</td>\n",
       "      <td>1.000000</td>\n",
       "      <td>-0.072460</td>\n",
       "      <td>0.365428</td>\n",
       "      <td>0.048560</td>\n",
       "      <td>0.168287</td>\n",
       "      <td>0.039866</td>\n",
       "      <td>0.234987</td>\n",
       "    </tr>\n",
       "    <tr>\n",
       "      <th>60-Day Eng Rate</th>\n",
       "      <td>0.028900</td>\n",
       "      <td>-0.072460</td>\n",
       "      <td>1.000000</td>\n",
       "      <td>-0.107439</td>\n",
       "      <td>0.789356</td>\n",
       "      <td>-0.334047</td>\n",
       "      <td>0.866288</td>\n",
       "      <td>-0.001560</td>\n",
       "    </tr>\n",
       "    <tr>\n",
       "      <th>Followers(m)</th>\n",
       "      <td>-0.698193</td>\n",
       "      <td>0.365428</td>\n",
       "      <td>-0.107439</td>\n",
       "      <td>1.000000</td>\n",
       "      <td>0.346829</td>\n",
       "      <td>0.069171</td>\n",
       "      <td>0.260733</td>\n",
       "      <td>0.667546</td>\n",
       "    </tr>\n",
       "    <tr>\n",
       "      <th>Avg_Likes(m)</th>\n",
       "      <td>-0.277651</td>\n",
       "      <td>0.048560</td>\n",
       "      <td>0.789356</td>\n",
       "      <td>0.346829</td>\n",
       "      <td>1.000000</td>\n",
       "      <td>-0.348668</td>\n",
       "      <td>0.892777</td>\n",
       "      <td>0.361297</td>\n",
       "    </tr>\n",
       "    <tr>\n",
       "      <th>Posts(k)</th>\n",
       "      <td>-0.058132</td>\n",
       "      <td>0.168287</td>\n",
       "      <td>-0.334047</td>\n",
       "      <td>0.069171</td>\n",
       "      <td>-0.348668</td>\n",
       "      <td>1.000000</td>\n",
       "      <td>-0.285216</td>\n",
       "      <td>0.232038</td>\n",
       "    </tr>\n",
       "    <tr>\n",
       "      <th>New Post Avg. Likes(m)</th>\n",
       "      <td>-0.272441</td>\n",
       "      <td>0.039866</td>\n",
       "      <td>0.866288</td>\n",
       "      <td>0.260733</td>\n",
       "      <td>0.892777</td>\n",
       "      <td>-0.285216</td>\n",
       "      <td>1.000000</td>\n",
       "      <td>0.351344</td>\n",
       "    </tr>\n",
       "    <tr>\n",
       "      <th>Total_Likes(m)</th>\n",
       "      <td>-0.465119</td>\n",
       "      <td>0.234987</td>\n",
       "      <td>-0.001560</td>\n",
       "      <td>0.667546</td>\n",
       "      <td>0.361297</td>\n",
       "      <td>0.232038</td>\n",
       "      <td>0.351344</td>\n",
       "      <td>1.000000</td>\n",
       "    </tr>\n",
       "  </tbody>\n",
       "</table>\n",
       "</div>"
      ],
      "text/plain": [
       "                            Rank  Influence Score  60-Day Eng Rate  \\\n",
       "Rank                    1.000000        -0.354843         0.028900   \n",
       "Influence Score        -0.354843         1.000000        -0.072460   \n",
       "60-Day Eng Rate         0.028900        -0.072460         1.000000   \n",
       "Followers(m)           -0.698193         0.365428        -0.107439   \n",
       "Avg_Likes(m)           -0.277651         0.048560         0.789356   \n",
       "Posts(k)               -0.058132         0.168287        -0.334047   \n",
       "New Post Avg. Likes(m) -0.272441         0.039866         0.866288   \n",
       "Total_Likes(m)         -0.465119         0.234987        -0.001560   \n",
       "\n",
       "                        Followers(m)  Avg_Likes(m)  Posts(k)  \\\n",
       "Rank                       -0.698193     -0.277651 -0.058132   \n",
       "Influence Score             0.365428      0.048560  0.168287   \n",
       "60-Day Eng Rate            -0.107439      0.789356 -0.334047   \n",
       "Followers(m)                1.000000      0.346829  0.069171   \n",
       "Avg_Likes(m)                0.346829      1.000000 -0.348668   \n",
       "Posts(k)                    0.069171     -0.348668  1.000000   \n",
       "New Post Avg. Likes(m)      0.260733      0.892777 -0.285216   \n",
       "Total_Likes(m)              0.667546      0.361297  0.232038   \n",
       "\n",
       "                        New Post Avg. Likes(m)  Total_Likes(m)  \n",
       "Rank                                 -0.272441       -0.465119  \n",
       "Influence Score                       0.039866        0.234987  \n",
       "60-Day Eng Rate                       0.866288       -0.001560  \n",
       "Followers(m)                          0.260733        0.667546  \n",
       "Avg_Likes(m)                          0.892777        0.361297  \n",
       "Posts(k)                             -0.285216        0.232038  \n",
       "New Post Avg. Likes(m)                1.000000        0.351344  \n",
       "Total_Likes(m)                        0.351344        1.000000  "
      ]
     },
     "execution_count": 25,
     "metadata": {},
     "output_type": "execute_result"
    }
   ],
   "source": [
    "correlation = df.corr()\n",
    "correlation"
   ]
  },
  {
   "cell_type": "code",
   "execution_count": 26,
   "id": "6d762b40",
   "metadata": {},
   "outputs": [
    {
     "data": {
      "text/plain": [
       "<Axes: >"
      ]
     },
     "execution_count": 26,
     "metadata": {},
     "output_type": "execute_result"
    },
    {
     "data": {
      "image/png": "[encoded data removed]",
      "text/plain": [
       "<Figure size 640x480 with 2 Axes>"
      ]
     },
     "metadata": {},
     "output_type": "display_data"
    }
   ],
   "source": [
    "sns.heatmap(correlation,annot=True)"
   ]
  },
  {
   "cell_type": "code",
   "execution_count": 27,
   "id": "55fc283b",
   "metadata": {
    "scrolled": true
   },
   "outputs": [
    {
     "name": "stdout",
     "output_type": "stream",
     "text": [
      "The correlation between Rank & Followers(m) is -0.6981928705195849\n",
      "The correlation between 60-Day Eng Rate & Avg_Likes(m) is 0.789356251170854\n",
      "The correlation between 60-Day Eng Rate & New Post Avg. Likes(m) is 0.8662876356085296\n",
      "The correlation between Followers(m) & Total_Likes(m) is 0.6675458848032384\n",
      "The correlation between Avg_Likes(m) & New Post Avg. Likes(m) is 0.8927773410568807\n"
     ]
    }
   ],
   "source": [
    "num_cols = [col for col in df.columns if df[col].dtype != object]\n",
    "n = len(num_cols)\n",
    "for i in range(n):\n",
    "    for j in range(i+1,n):\n",
    "        corr = df[num_cols[i]].corr(other = df[num_cols[j]])\n",
    "        if corr <= -0.5 or corr >= 0.5:\n",
    "            print(f'The correlation between {num_cols[i]} & {num_cols[j]} is {corr}')"
   ]
  },
  {
   "cell_type": "markdown",
   "id": "1bc629b6",
   "metadata": {},
   "source": [
    "## Insight\n",
    "We can see that Rank and followers are negatively correlated. Less rank has more followers.  \n",
    "Remaining correlations are positive. so, one column value increases with other column"
   ]
  },
  {
   "cell_type": "code",
   "execution_count": null,
   "id": "aa238d59",
   "metadata": {},
   "outputs": [],
   "source": []
  },
  {
   "cell_type": "markdown",
   "id": "0cb6047b",
   "metadata": {},
   "source": [
    "# 2. What is the frequency distribution of the following features?  \n",
    "### ○ Influence Score\n",
    "### ○ Followers\n",
    "### ○ Posts"
   ]
  },
  {
   "cell_type": "code",
   "execution_count": 28,
   "id": "6578115c",
   "metadata": {
    "scrolled": false
   },
   "outputs": [
    {
     "data": {
      "image/png": "[encoded data removed]",
      "text/plain": [
       "<Figure size 2000x500 with 3 Axes>"
      ]
     },
     "metadata": {},
     "output_type": "display_data"
    }
   ],
   "source": [
    "cols = ['Influence Score','Followers(m)','Posts(k)']\n",
    "plt.figure(figsize=(20,5))\n",
    "for i,feature in enumerate(cols):\n",
    "    plt.subplot(1,3,i+1)\n",
    "    plt.hist(df[feature],range=(0,100),bins=10,color='yellow',edgecolor='black')\n",
    "    plt.title(feature)"
   ]
  },
  {
   "cell_type": "markdown",
   "id": "a1666b5b",
   "metadata": {},
   "source": [
    "# 3. Which country houses the highest number of Instagram Influencers?  \n",
    "# Please show the count of Instagram influencers in different countries using barchart."
   ]
  },
  {
   "cell_type": "code",
   "execution_count": 29,
   "id": "90585d6a",
   "metadata": {
    "scrolled": true
   },
   "outputs": [
    {
     "data": {
      "text/html": [
       "<div>\n",
       "<style scoped>\n",
       "    .dataframe tbody tr th:only-of-type {\n",
       "        vertical-align: middle;\n",
       "    }\n",
       "\n",
       "    .dataframe tbody tr th {\n",
       "        vertical-align: top;\n",
       "    }\n",
       "\n",
       "    .dataframe thead th {\n",
       "        text-align: right;\n",
       "    }\n",
       "</style>\n",
       "<table border=\"1\" class=\"dataframe\">\n",
       "  <thead>\n",
       "    <tr style=\"text-align: right;\">\n",
       "      <th></th>\n",
       "      <th>Country</th>\n",
       "      <th>Count</th>\n",
       "    </tr>\n",
       "  </thead>\n",
       "  <tbody>\n",
       "    <tr>\n",
       "      <th>0</th>\n",
       "      <td>United States</td>\n",
       "      <td>65</td>\n",
       "    </tr>\n",
       "    <tr>\n",
       "      <th>1</th>\n",
       "      <td>Brazil</td>\n",
       "      <td>18</td>\n",
       "    </tr>\n",
       "    <tr>\n",
       "      <th>2</th>\n",
       "      <td>India</td>\n",
       "      <td>17</td>\n",
       "    </tr>\n",
       "    <tr>\n",
       "      <th>3</th>\n",
       "      <td>Indonesia</td>\n",
       "      <td>10</td>\n",
       "    </tr>\n",
       "    <tr>\n",
       "      <th>4</th>\n",
       "      <td>Spain</td>\n",
       "      <td>7</td>\n",
       "    </tr>\n",
       "  </tbody>\n",
       "</table>\n",
       "</div>"
      ],
      "text/plain": [
       "         Country  Count\n",
       "0  United States     65\n",
       "1         Brazil     18\n",
       "2          India     17\n",
       "3      Indonesia     10\n",
       "4          Spain      7"
      ]
     },
     "execution_count": 29,
     "metadata": {},
     "output_type": "execute_result"
    }
   ],
   "source": [
    "influencers_per_country = df['Country Or Region'].value_counts().reset_index()\n",
    "influencers_per_country.rename(columns={'index': 'Country', 'Country Or Region': 'Count'}, inplace=True)\n",
    "influencers_per_country.head()"
   ]
  },
  {
   "cell_type": "code",
   "execution_count": 30,
   "id": "669bac45",
   "metadata": {
    "scrolled": false
   },
   "outputs": [
    {
     "data": {
      "image/png": "[encoded data removed]",
      "text/plain": [
       "<Figure size 640x480 with 1 Axes>"
      ]
     },
     "metadata": {},
     "output_type": "display_data"
    }
   ],
   "source": [
    "# plt.figure(figsize=(20,10))\n",
    "plt.bar(influencers_per_country['Country'],influencers_per_country['Count'],color='orange',edgecolor='black')\n",
    "plt.title('Numer of Influencers per Country')\n",
    "plt.xlabel('Country')\n",
    "plt.ylabel('Count')\n",
    "plt.xticks(rotation=90)\n",
    "plt.show()"
   ]
  },
  {
   "cell_type": "markdown",
   "id": "ffa3c488",
   "metadata": {},
   "source": [
    "# 4. Who are the top 10 influencers in the given dataset based on the following features\n",
    "## ● Followers\n",
    "## ● Average likes\n",
    "## ● Total Likes"
   ]
  },
  {
   "cell_type": "code",
   "execution_count": 31,
   "id": "36cbcc5b",
   "metadata": {},
   "outputs": [
    {
     "data": {
      "text/html": [
       "<div>\n",
       "<style scoped>\n",
       "    .dataframe tbody tr th:only-of-type {\n",
       "        vertical-align: middle;\n",
       "    }\n",
       "\n",
       "    .dataframe tbody tr th {\n",
       "        vertical-align: top;\n",
       "    }\n",
       "\n",
       "    .dataframe thead th {\n",
       "        text-align: right;\n",
       "    }\n",
       "</style>\n",
       "<table border=\"1\" class=\"dataframe\">\n",
       "  <thead>\n",
       "    <tr style=\"text-align: right;\">\n",
       "      <th></th>\n",
       "      <th>Rank</th>\n",
       "      <th>Channel Info</th>\n",
       "      <th>Influence Score</th>\n",
       "      <th>60-Day Eng Rate</th>\n",
       "      <th>Country Or Region</th>\n",
       "      <th>Followers(m)</th>\n",
       "      <th>Avg_Likes(m)</th>\n",
       "      <th>Posts(k)</th>\n",
       "      <th>New Post Avg. Likes(m)</th>\n",
       "      <th>Total_Likes(m)</th>\n",
       "    </tr>\n",
       "  </thead>\n",
       "  <tbody>\n",
       "    <tr>\n",
       "      <th>0</th>\n",
       "      <td>1</td>\n",
       "      <td>cristiano</td>\n",
       "      <td>92</td>\n",
       "      <td>0.013</td>\n",
       "      <td>Spain</td>\n",
       "      <td>485.2</td>\n",
       "      <td>8.7</td>\n",
       "      <td>3.400</td>\n",
       "      <td>6.30</td>\n",
       "      <td>29100.0</td>\n",
       "    </tr>\n",
       "    <tr>\n",
       "      <th>1</th>\n",
       "      <td>2</td>\n",
       "      <td>kyliejenner</td>\n",
       "      <td>91</td>\n",
       "      <td>0.014</td>\n",
       "      <td>United States</td>\n",
       "      <td>370.7</td>\n",
       "      <td>8.2</td>\n",
       "      <td>7.000</td>\n",
       "      <td>5.00</td>\n",
       "      <td>57400.0</td>\n",
       "    </tr>\n",
       "    <tr>\n",
       "      <th>2</th>\n",
       "      <td>3</td>\n",
       "      <td>leomessi</td>\n",
       "      <td>90</td>\n",
       "      <td>0.010</td>\n",
       "      <td>Russia</td>\n",
       "      <td>363.9</td>\n",
       "      <td>6.7</td>\n",
       "      <td>0.915</td>\n",
       "      <td>3.50</td>\n",
       "      <td>6100.0</td>\n",
       "    </tr>\n",
       "    <tr>\n",
       "      <th>3</th>\n",
       "      <td>4</td>\n",
       "      <td>selenagomez</td>\n",
       "      <td>93</td>\n",
       "      <td>0.005</td>\n",
       "      <td>United States</td>\n",
       "      <td>348.8</td>\n",
       "      <td>6.1</td>\n",
       "      <td>1.900</td>\n",
       "      <td>1.70</td>\n",
       "      <td>11400.0</td>\n",
       "    </tr>\n",
       "    <tr>\n",
       "      <th>4</th>\n",
       "      <td>5</td>\n",
       "      <td>therock</td>\n",
       "      <td>91</td>\n",
       "      <td>0.003</td>\n",
       "      <td>United States</td>\n",
       "      <td>339.4</td>\n",
       "      <td>1.8</td>\n",
       "      <td>6.800</td>\n",
       "      <td>0.93</td>\n",
       "      <td>12600.0</td>\n",
       "    </tr>\n",
       "    <tr>\n",
       "      <th>5</th>\n",
       "      <td>6</td>\n",
       "      <td>arianagrande</td>\n",
       "      <td>92</td>\n",
       "      <td>0.009</td>\n",
       "      <td>United States</td>\n",
       "      <td>333.0</td>\n",
       "      <td>3.7</td>\n",
       "      <td>5.000</td>\n",
       "      <td>3.10</td>\n",
       "      <td>18500.0</td>\n",
       "    </tr>\n",
       "    <tr>\n",
       "      <th>6</th>\n",
       "      <td>7</td>\n",
       "      <td>kimkardashian</td>\n",
       "      <td>91</td>\n",
       "      <td>0.005</td>\n",
       "      <td>United States</td>\n",
       "      <td>330.7</td>\n",
       "      <td>3.5</td>\n",
       "      <td>5.700</td>\n",
       "      <td>1.70</td>\n",
       "      <td>19800.0</td>\n",
       "    </tr>\n",
       "    <tr>\n",
       "      <th>7</th>\n",
       "      <td>8</td>\n",
       "      <td>beyonce</td>\n",
       "      <td>92</td>\n",
       "      <td>0.008</td>\n",
       "      <td>United States</td>\n",
       "      <td>276.1</td>\n",
       "      <td>3.6</td>\n",
       "      <td>2.000</td>\n",
       "      <td>2.20</td>\n",
       "      <td>7300.0</td>\n",
       "    </tr>\n",
       "    <tr>\n",
       "      <th>8</th>\n",
       "      <td>9</td>\n",
       "      <td>khloekardashian</td>\n",
       "      <td>89</td>\n",
       "      <td>0.002</td>\n",
       "      <td>United States</td>\n",
       "      <td>273.9</td>\n",
       "      <td>2.4</td>\n",
       "      <td>4.100</td>\n",
       "      <td>0.40</td>\n",
       "      <td>9800.0</td>\n",
       "    </tr>\n",
       "    <tr>\n",
       "      <th>9</th>\n",
       "      <td>10</td>\n",
       "      <td>justinbieber</td>\n",
       "      <td>91</td>\n",
       "      <td>0.007</td>\n",
       "      <td>Canada</td>\n",
       "      <td>260.0</td>\n",
       "      <td>1.9</td>\n",
       "      <td>7.400</td>\n",
       "      <td>1.70</td>\n",
       "      <td>14000.0</td>\n",
       "    </tr>\n",
       "  </tbody>\n",
       "</table>\n",
       "</div>"
      ],
      "text/plain": [
       "   Rank     Channel Info  Influence Score  60-Day Eng Rate Country Or Region  \\\n",
       "0     1        cristiano               92            0.013             Spain   \n",
       "1     2      kyliejenner               91            0.014     United States   \n",
       "2     3         leomessi               90            0.010            Russia   \n",
       "3     4      selenagomez               93            0.005     United States   \n",
       "4     5          therock               91            0.003     United States   \n",
       "5     6     arianagrande               92            0.009     United States   \n",
       "6     7    kimkardashian               91            0.005     United States   \n",
       "7     8          beyonce               92            0.008     United States   \n",
       "8     9  khloekardashian               89            0.002     United States   \n",
       "9    10     justinbieber               91            0.007            Canada   \n",
       "\n",
       "   Followers(m)  Avg_Likes(m)  Posts(k)  New Post Avg. Likes(m)  \\\n",
       "0         485.2           8.7     3.400                    6.30   \n",
       "1         370.7           8.2     7.000                    5.00   \n",
       "2         363.9           6.7     0.915                    3.50   \n",
       "3         348.8           6.1     1.900                    1.70   \n",
       "4         339.4           1.8     6.800                    0.93   \n",
       "5         333.0           3.7     5.000                    3.10   \n",
       "6         330.7           3.5     5.700                    1.70   \n",
       "7         276.1           3.6     2.000                    2.20   \n",
       "8         273.9           2.4     4.100                    0.40   \n",
       "9         260.0           1.9     7.400                    1.70   \n",
       "\n",
       "   Total_Likes(m)  \n",
       "0         29100.0  \n",
       "1         57400.0  \n",
       "2          6100.0  \n",
       "3         11400.0  \n",
       "4         12600.0  \n",
       "5         18500.0  \n",
       "6         19800.0  \n",
       "7          7300.0  \n",
       "8          9800.0  \n",
       "9         14000.0  "
      ]
     },
     "execution_count": 31,
     "metadata": {},
     "output_type": "execute_result"
    }
   ],
   "source": [
    "df.sort_values('Followers(m)',ascending=False)[:10]"
   ]
  },
  {
   "cell_type": "code",
   "execution_count": 32,
   "id": "e091b1f7",
   "metadata": {},
   "outputs": [
    {
     "data": {
      "text/html": [
       "<div>\n",
       "<style scoped>\n",
       "    .dataframe tbody tr th:only-of-type {\n",
       "        vertical-align: middle;\n",
       "    }\n",
       "\n",
       "    .dataframe tbody tr th {\n",
       "        vertical-align: top;\n",
       "    }\n",
       "\n",
       "    .dataframe thead th {\n",
       "        text-align: right;\n",
       "    }\n",
       "</style>\n",
       "<table border=\"1\" class=\"dataframe\">\n",
       "  <thead>\n",
       "    <tr style=\"text-align: right;\">\n",
       "      <th></th>\n",
       "      <th>Rank</th>\n",
       "      <th>Channel Info</th>\n",
       "      <th>Influence Score</th>\n",
       "      <th>60-Day Eng Rate</th>\n",
       "      <th>Country Or Region</th>\n",
       "      <th>Followers(m)</th>\n",
       "      <th>Avg_Likes(m)</th>\n",
       "      <th>Posts(k)</th>\n",
       "      <th>New Post Avg. Likes(m)</th>\n",
       "      <th>Total_Likes(m)</th>\n",
       "    </tr>\n",
       "  </thead>\n",
       "  <tbody>\n",
       "    <tr>\n",
       "      <th>96</th>\n",
       "      <td>97</td>\n",
       "      <td>thv</td>\n",
       "      <td>83</td>\n",
       "      <td>0.250</td>\n",
       "      <td>Turkey</td>\n",
       "      <td>51.7</td>\n",
       "      <td>15.4</td>\n",
       "      <td>0.069</td>\n",
       "      <td>12.9</td>\n",
       "      <td>1100.0</td>\n",
       "    </tr>\n",
       "    <tr>\n",
       "      <th>131</th>\n",
       "      <td>132</td>\n",
       "      <td>j.m</td>\n",
       "      <td>83</td>\n",
       "      <td>0.228</td>\n",
       "      <td>Indonesia</td>\n",
       "      <td>44.2</td>\n",
       "      <td>14.4</td>\n",
       "      <td>0.028</td>\n",
       "      <td>10.0</td>\n",
       "      <td>402.1</td>\n",
       "    </tr>\n",
       "    <tr>\n",
       "      <th>165</th>\n",
       "      <td>166</td>\n",
       "      <td>rkive</td>\n",
       "      <td>83</td>\n",
       "      <td>0.171</td>\n",
       "      <td>India</td>\n",
       "      <td>38.4</td>\n",
       "      <td>10.6</td>\n",
       "      <td>0.115</td>\n",
       "      <td>6.5</td>\n",
       "      <td>1200.0</td>\n",
       "    </tr>\n",
       "    <tr>\n",
       "      <th>0</th>\n",
       "      <td>1</td>\n",
       "      <td>cristiano</td>\n",
       "      <td>92</td>\n",
       "      <td>0.013</td>\n",
       "      <td>Spain</td>\n",
       "      <td>485.2</td>\n",
       "      <td>8.7</td>\n",
       "      <td>3.400</td>\n",
       "      <td>6.3</td>\n",
       "      <td>29100.0</td>\n",
       "    </tr>\n",
       "    <tr>\n",
       "      <th>32</th>\n",
       "      <td>33</td>\n",
       "      <td>billieeilish</td>\n",
       "      <td>73</td>\n",
       "      <td>0.047</td>\n",
       "      <td>Mexico</td>\n",
       "      <td>106.4</td>\n",
       "      <td>8.4</td>\n",
       "      <td>0.710</td>\n",
       "      <td>4.9</td>\n",
       "      <td>6000.0</td>\n",
       "    </tr>\n",
       "    <tr>\n",
       "      <th>1</th>\n",
       "      <td>2</td>\n",
       "      <td>kyliejenner</td>\n",
       "      <td>91</td>\n",
       "      <td>0.014</td>\n",
       "      <td>United States</td>\n",
       "      <td>370.7</td>\n",
       "      <td>8.2</td>\n",
       "      <td>7.000</td>\n",
       "      <td>5.0</td>\n",
       "      <td>57400.0</td>\n",
       "    </tr>\n",
       "    <tr>\n",
       "      <th>2</th>\n",
       "      <td>3</td>\n",
       "      <td>leomessi</td>\n",
       "      <td>90</td>\n",
       "      <td>0.010</td>\n",
       "      <td>Russia</td>\n",
       "      <td>363.9</td>\n",
       "      <td>6.7</td>\n",
       "      <td>0.915</td>\n",
       "      <td>3.5</td>\n",
       "      <td>6100.0</td>\n",
       "    </tr>\n",
       "    <tr>\n",
       "      <th>3</th>\n",
       "      <td>4</td>\n",
       "      <td>selenagomez</td>\n",
       "      <td>93</td>\n",
       "      <td>0.005</td>\n",
       "      <td>United States</td>\n",
       "      <td>348.8</td>\n",
       "      <td>6.1</td>\n",
       "      <td>1.900</td>\n",
       "      <td>1.7</td>\n",
       "      <td>11400.0</td>\n",
       "    </tr>\n",
       "    <tr>\n",
       "      <th>38</th>\n",
       "      <td>39</td>\n",
       "      <td>lalalalisa_m</td>\n",
       "      <td>70</td>\n",
       "      <td>0.088</td>\n",
       "      <td>United Kingdom</td>\n",
       "      <td>82.6</td>\n",
       "      <td>6.0</td>\n",
       "      <td>0.893</td>\n",
       "      <td>7.2</td>\n",
       "      <td>5300.0</td>\n",
       "    </tr>\n",
       "    <tr>\n",
       "      <th>22</th>\n",
       "      <td>23</td>\n",
       "      <td>zendaya</td>\n",
       "      <td>87</td>\n",
       "      <td>0.049</td>\n",
       "      <td>United States</td>\n",
       "      <td>153.3</td>\n",
       "      <td>5.9</td>\n",
       "      <td>3.500</td>\n",
       "      <td>7.5</td>\n",
       "      <td>20800.0</td>\n",
       "    </tr>\n",
       "  </tbody>\n",
       "</table>\n",
       "</div>"
      ],
      "text/plain": [
       "     Rank  Channel Info  Influence Score  60-Day Eng Rate Country Or Region  \\\n",
       "96     97           thv               83            0.250            Turkey   \n",
       "131   132           j.m               83            0.228         Indonesia   \n",
       "165   166         rkive               83            0.171             India   \n",
       "0       1     cristiano               92            0.013             Spain   \n",
       "32     33  billieeilish               73            0.047            Mexico   \n",
       "1       2   kyliejenner               91            0.014     United States   \n",
       "2       3      leomessi               90            0.010            Russia   \n",
       "3       4   selenagomez               93            0.005     United States   \n",
       "38     39  lalalalisa_m               70            0.088    United Kingdom   \n",
       "22     23       zendaya               87            0.049     United States   \n",
       "\n",
       "     Followers(m)  Avg_Likes(m)  Posts(k)  New Post Avg. Likes(m)  \\\n",
       "96           51.7          15.4     0.069                    12.9   \n",
       "131          44.2          14.4     0.028                    10.0   \n",
       "165          38.4          10.6     0.115                     6.5   \n",
       "0           485.2           8.7     3.400                     6.3   \n",
       "32          106.4           8.4     0.710                     4.9   \n",
       "1           370.7           8.2     7.000                     5.0   \n",
       "2           363.9           6.7     0.915                     3.5   \n",
       "3           348.8           6.1     1.900                     1.7   \n",
       "38           82.6           6.0     0.893                     7.2   \n",
       "22          153.3           5.9     3.500                     7.5   \n",
       "\n",
       "     Total_Likes(m)  \n",
       "96           1100.0  \n",
       "131           402.1  \n",
       "165          1200.0  \n",
       "0           29100.0  \n",
       "32           6000.0  \n",
       "1           57400.0  \n",
       "2            6100.0  \n",
       "3           11400.0  \n",
       "38           5300.0  \n",
       "22          20800.0  "
      ]
     },
     "execution_count": 32,
     "metadata": {},
     "output_type": "execute_result"
    }
   ],
   "source": [
    "df.sort_values('Avg_Likes(m)',ascending=False)[:10]"
   ]
  },
  {
   "cell_type": "code",
   "execution_count": 33,
   "id": "15312112",
   "metadata": {},
   "outputs": [
    {
     "data": {
      "text/html": [
       "<div>\n",
       "<style scoped>\n",
       "    .dataframe tbody tr th:only-of-type {\n",
       "        vertical-align: middle;\n",
       "    }\n",
       "\n",
       "    .dataframe tbody tr th {\n",
       "        vertical-align: top;\n",
       "    }\n",
       "\n",
       "    .dataframe thead th {\n",
       "        text-align: right;\n",
       "    }\n",
       "</style>\n",
       "<table border=\"1\" class=\"dataframe\">\n",
       "  <thead>\n",
       "    <tr style=\"text-align: right;\">\n",
       "      <th></th>\n",
       "      <th>Rank</th>\n",
       "      <th>Channel Info</th>\n",
       "      <th>Influence Score</th>\n",
       "      <th>60-Day Eng Rate</th>\n",
       "      <th>Country Or Region</th>\n",
       "      <th>Followers(m)</th>\n",
       "      <th>Avg_Likes(m)</th>\n",
       "      <th>Posts(k)</th>\n",
       "      <th>New Post Avg. Likes(m)</th>\n",
       "      <th>Total_Likes(m)</th>\n",
       "    </tr>\n",
       "  </thead>\n",
       "  <tbody>\n",
       "    <tr>\n",
       "      <th>1</th>\n",
       "      <td>2</td>\n",
       "      <td>kyliejenner</td>\n",
       "      <td>91</td>\n",
       "      <td>0.014</td>\n",
       "      <td>United States</td>\n",
       "      <td>370.7</td>\n",
       "      <td>8.2</td>\n",
       "      <td>7.0</td>\n",
       "      <td>5.00</td>\n",
       "      <td>57400.0</td>\n",
       "    </tr>\n",
       "    <tr>\n",
       "      <th>0</th>\n",
       "      <td>1</td>\n",
       "      <td>cristiano</td>\n",
       "      <td>92</td>\n",
       "      <td>0.013</td>\n",
       "      <td>Spain</td>\n",
       "      <td>485.2</td>\n",
       "      <td>8.7</td>\n",
       "      <td>3.4</td>\n",
       "      <td>6.30</td>\n",
       "      <td>29100.0</td>\n",
       "    </tr>\n",
       "    <tr>\n",
       "      <th>22</th>\n",
       "      <td>23</td>\n",
       "      <td>zendaya</td>\n",
       "      <td>87</td>\n",
       "      <td>0.049</td>\n",
       "      <td>United States</td>\n",
       "      <td>153.3</td>\n",
       "      <td>5.9</td>\n",
       "      <td>3.5</td>\n",
       "      <td>7.50</td>\n",
       "      <td>20800.0</td>\n",
       "    </tr>\n",
       "    <tr>\n",
       "      <th>6</th>\n",
       "      <td>7</td>\n",
       "      <td>kimkardashian</td>\n",
       "      <td>91</td>\n",
       "      <td>0.005</td>\n",
       "      <td>United States</td>\n",
       "      <td>330.7</td>\n",
       "      <td>3.5</td>\n",
       "      <td>5.7</td>\n",
       "      <td>1.70</td>\n",
       "      <td>19800.0</td>\n",
       "    </tr>\n",
       "    <tr>\n",
       "      <th>5</th>\n",
       "      <td>6</td>\n",
       "      <td>arianagrande</td>\n",
       "      <td>92</td>\n",
       "      <td>0.009</td>\n",
       "      <td>United States</td>\n",
       "      <td>333.0</td>\n",
       "      <td>3.7</td>\n",
       "      <td>5.0</td>\n",
       "      <td>3.10</td>\n",
       "      <td>18500.0</td>\n",
       "    </tr>\n",
       "    <tr>\n",
       "      <th>25</th>\n",
       "      <td>26</td>\n",
       "      <td>badgalriri</td>\n",
       "      <td>88</td>\n",
       "      <td>0.051</td>\n",
       "      <td>United States</td>\n",
       "      <td>136.3</td>\n",
       "      <td>3.7</td>\n",
       "      <td>4.8</td>\n",
       "      <td>6.90</td>\n",
       "      <td>18000.0</td>\n",
       "    </tr>\n",
       "    <tr>\n",
       "      <th>19</th>\n",
       "      <td>20</td>\n",
       "      <td>neymarjr</td>\n",
       "      <td>90</td>\n",
       "      <td>0.012</td>\n",
       "      <td>Brazil</td>\n",
       "      <td>179.4</td>\n",
       "      <td>2.7</td>\n",
       "      <td>5.3</td>\n",
       "      <td>2.20</td>\n",
       "      <td>14400.0</td>\n",
       "    </tr>\n",
       "    <tr>\n",
       "      <th>9</th>\n",
       "      <td>10</td>\n",
       "      <td>justinbieber</td>\n",
       "      <td>91</td>\n",
       "      <td>0.007</td>\n",
       "      <td>Canada</td>\n",
       "      <td>260.0</td>\n",
       "      <td>1.9</td>\n",
       "      <td>7.4</td>\n",
       "      <td>1.70</td>\n",
       "      <td>14000.0</td>\n",
       "    </tr>\n",
       "    <tr>\n",
       "      <th>16</th>\n",
       "      <td>17</td>\n",
       "      <td>nickiminaj</td>\n",
       "      <td>90</td>\n",
       "      <td>0.004</td>\n",
       "      <td>United States</td>\n",
       "      <td>202.7</td>\n",
       "      <td>2.0</td>\n",
       "      <td>6.4</td>\n",
       "      <td>0.84</td>\n",
       "      <td>12900.0</td>\n",
       "    </tr>\n",
       "    <tr>\n",
       "      <th>4</th>\n",
       "      <td>5</td>\n",
       "      <td>therock</td>\n",
       "      <td>91</td>\n",
       "      <td>0.003</td>\n",
       "      <td>United States</td>\n",
       "      <td>339.4</td>\n",
       "      <td>1.8</td>\n",
       "      <td>6.8</td>\n",
       "      <td>0.93</td>\n",
       "      <td>12600.0</td>\n",
       "    </tr>\n",
       "  </tbody>\n",
       "</table>\n",
       "</div>"
      ],
      "text/plain": [
       "    Rank   Channel Info  Influence Score  60-Day Eng Rate Country Or Region  \\\n",
       "1      2    kyliejenner               91            0.014     United States   \n",
       "0      1      cristiano               92            0.013             Spain   \n",
       "22    23        zendaya               87            0.049     United States   \n",
       "6      7  kimkardashian               91            0.005     United States   \n",
       "5      6   arianagrande               92            0.009     United States   \n",
       "25    26     badgalriri               88            0.051     United States   \n",
       "19    20       neymarjr               90            0.012            Brazil   \n",
       "9     10   justinbieber               91            0.007            Canada   \n",
       "16    17     nickiminaj               90            0.004     United States   \n",
       "4      5        therock               91            0.003     United States   \n",
       "\n",
       "    Followers(m)  Avg_Likes(m)  Posts(k)  New Post Avg. Likes(m)  \\\n",
       "1          370.7           8.2       7.0                    5.00   \n",
       "0          485.2           8.7       3.4                    6.30   \n",
       "22         153.3           5.9       3.5                    7.50   \n",
       "6          330.7           3.5       5.7                    1.70   \n",
       "5          333.0           3.7       5.0                    3.10   \n",
       "25         136.3           3.7       4.8                    6.90   \n",
       "19         179.4           2.7       5.3                    2.20   \n",
       "9          260.0           1.9       7.4                    1.70   \n",
       "16         202.7           2.0       6.4                    0.84   \n",
       "4          339.4           1.8       6.8                    0.93   \n",
       "\n",
       "    Total_Likes(m)  \n",
       "1          57400.0  \n",
       "0          29100.0  \n",
       "22         20800.0  \n",
       "6          19800.0  \n",
       "5          18500.0  \n",
       "25         18000.0  \n",
       "19         14400.0  \n",
       "9          14000.0  \n",
       "16         12900.0  \n",
       "4          12600.0  "
      ]
     },
     "execution_count": 33,
     "metadata": {},
     "output_type": "execute_result"
    }
   ],
   "source": [
    "df.sort_values('Total_Likes(m)',ascending=False)[:10]"
   ]
  },
  {
   "cell_type": "markdown",
   "id": "dc8ed940",
   "metadata": {},
   "source": [
    "# 5. Describe the relationship between the following pairs of features using a suitable graph\n",
    "## ● Followers and Total Likes\n",
    "## ● Followers and Influence Score\n",
    "## ● Posts and Average likes\n",
    "## ● Posts and Influence Score"
   ]
  },
  {
   "cell_type": "code",
   "execution_count": 34,
   "id": "ad28cb50",
   "metadata": {},
   "outputs": [
    {
     "data": {
      "text/plain": [
       "<Axes: xlabel='Followers(m)', ylabel='Total_Likes(m)'>"
      ]
     },
     "execution_count": 34,
     "metadata": {},
     "output_type": "execute_result"
    },
    {
     "data": {
      "image/png": "[encoded data removed]",
      "text/plain": [
       "<Figure size 640x480 with 1 Axes>"
      ]
     },
     "metadata": {},
     "output_type": "display_data"
    }
   ],
   "source": [
    "sns.scatterplot(data=df,x='Followers(m)',y='Total_Likes(m)')"
   ]
  },
  {
   "cell_type": "code",
   "execution_count": 35,
   "id": "4dcf0dc9",
   "metadata": {},
   "outputs": [
    {
     "data": {
      "text/plain": [
       "<Axes: xlabel='Followers(m)', ylabel='Influence Score'>"
      ]
     },
     "execution_count": 35,
     "metadata": {},
     "output_type": "execute_result"
    },
    {
     "data": {
      "image/png": "[encoded data removed]",
      "text/plain": [
       "<Figure size 640x480 with 1 Axes>"
      ]
     },
     "metadata": {},
     "output_type": "display_data"
    }
   ],
   "source": [
    "sns.scatterplot(data=df,x='Followers(m)',y='Influence Score')"
   ]
  },
  {
   "cell_type": "code",
   "execution_count": 36,
   "id": "d83d1a29",
   "metadata": {},
   "outputs": [
    {
     "data": {
      "text/plain": [
       "<Axes: xlabel='Posts(k)', ylabel='Avg_Likes(m)'>"
      ]
     },
     "execution_count": 36,
     "metadata": {},
     "output_type": "execute_result"
    },
    {
     "data": {
      "image/png": "[encoded data removed]",
      "text/plain": [
       "<Figure size 640x480 with 1 Axes>"
      ]
     },
     "metadata": {},
     "output_type": "display_data"
    }
   ],
   "source": [
    "sns.scatterplot(data=df,x='Posts(k)',y='Avg_Likes(m)')"
   ]
  },
  {
   "cell_type": "code",
   "execution_count": 37,
   "id": "675011c4",
   "metadata": {},
   "outputs": [
    {
     "data": {
      "text/plain": [
       "<Axes: xlabel='Posts(k)', ylabel='Influence Score'>"
      ]
     },
     "execution_count": 37,
     "metadata": {},
     "output_type": "execute_result"
    },
    {
     "data": {
      "image/png": "[encoded data removed]",
      "text/plain": [
       "<Figure size 640x480 with 1 Axes>"
      ]
     },
     "metadata": {},
     "output_type": "display_data"
    }
   ],
   "source": [
    "sns.scatterplot(data=df,x='Posts(k)',y='Influence Score')"
   ]
  },
  {
   "cell_type": "code",
   "execution_count": null,
   "id": "e9a6aad0",
   "metadata": {},
   "outputs": [],
   "source": []
  },
  {
   "cell_type": "code",
   "execution_count": null,
   "id": "c7bd3617",
   "metadata": {},
   "outputs": [],
   "source": []
  }
 ],
 "metadata": {
  "kernelspec": {
   "display_name": "Python 3 (ipykernel)",
   "language": "python",
   "name": "python3"
  },
  "language_info": {
   "codemirror_mode": {
    "name": "ipython",
    "version": 3
   },
   "file_extension": ".py",
   "mimetype": "text/x-python",
   "name": "python",
   "nbconvert_exporter": "python",
   "pygments_lexer": "ipython3",
   "version": "3.10.9"
  }
 },
 "nbformat": 4,
 "nbformat_minor": 5
}
