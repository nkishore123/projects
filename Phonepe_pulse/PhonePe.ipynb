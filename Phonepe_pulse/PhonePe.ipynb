{
 "cells": [
  {
   "cell_type": "markdown",
   "id": "3433fa51",
   "metadata": {},
   "source": [
    "pip install mysql-connector-python"
   ]
  },
  {
   "cell_type": "code",
   "execution_count": 1,
   "id": "f2ce7e34",
   "metadata": {},
   "outputs": [],
   "source": [
    "import os\n",
    "import json\n",
    "from IPython.display import JSON,display\n",
    "import pandas as pd\n",
    "import mysql.connector as mysql"
   ]
  },
  {
   "cell_type": "code",
   "execution_count": null,
   "id": "d64427f8",
   "metadata": {},
   "outputs": [],
   "source": []
  },
  {
   "cell_type": "markdown",
   "id": "cc76f118-16e7-49e9-962f-2fb2eba12923",
   "metadata": {
    "tags": []
   },
   "source": [
    "# Aggregated Transactions"
   ]
  },
  {
   "cell_type": "code",
   "execution_count": 2,
   "id": "0af20fb2-29c5-4d7e-b1e6-76f43c0bf058",
   "metadata": {},
   "outputs": [
    {
     "data": {
      "application/json": {
       "code": "SUCCESS",
       "data": {
        "from": 1514745000000,
        "to": 1522175400000,
        "transactionData": [
         {
          "name": "Recharge & bill payments",
          "paymentInstruments": [
           {
            "amount": 1845307.4673655091,
            "count": 4200,
            "type": "TOTAL"
           }
          ]
         },
         {
          "name": "Peer-to-peer payments",
          "paymentInstruments": [
           {
            "amount": 12138655.299749982,
            "count": 1871,
            "type": "TOTAL"
           }
          ]
         },
         {
          "name": "Merchant payments",
          "paymentInstruments": [
           {
            "amount": 452507.168646613,
            "count": 298,
            "type": "TOTAL"
           }
          ]
         },
         {
          "name": "Financial Services",
          "paymentInstruments": [
           {
            "amount": 10601.419933464953,
            "count": 33,
            "type": "TOTAL"
           }
          ]
         },
         {
          "name": "Others",
          "paymentInstruments": [
           {
            "amount": 184689.8662902223,
            "count": 256,
            "type": "TOTAL"
           }
          ]
         }
        ]
       },
       "responseTimestamp": 1630501487199,
       "success": true
      },
      "text/plain": [
       "<IPython.core.display.JSON object>"
      ]
     },
     "execution_count": 2,
     "metadata": {
      "application/json": {
       "expanded": false,
       "root": "root"
      }
     },
     "output_type": "execute_result"
    }
   ],
   "source": [
    "path = 'C:/Users/kisho/PhonePe/pulse/data/aggregated/transaction/country/india/state/'\n",
    "agg_states_list = os.listdir(path)\n",
    "\n",
    "for state in agg_states_list:\n",
    "    current_state = path+state+'/'\n",
    "    agg_years_list = os.listdir(current_state)\n",
    "    \n",
    "    for year in agg_years_list:\n",
    "        curr_year = current_state+year+'/'\n",
    "        agg_files = os.listdir(curr_year)\n",
    "\n",
    "        for file in agg_files:\n",
    "            curr_file = curr_year+file\n",
    "            d = open(curr_file,'r')\n",
    "            P = json.load(d)\n",
    "            break\n",
    "        break\n",
    "    break\n",
    "JSON(P)"
   ]
  },
  {
   "cell_type": "code",
   "execution_count": 3,
   "id": "4dd096a1",
   "metadata": {},
   "outputs": [],
   "source": [
    "path = 'C:/Users/kisho/PhonePe/pulse/data/aggregated/transaction/country/india/state/'\n",
    "agg_states_list = os.listdir(path)\n",
    "\n",
    "columns = {'State':[],'Year':[],'Quarter':[],'Transaction_Type':[],'Transactions_Count':[],'Transactions_Amount':[]}\n",
    "\n",
    "for state in agg_states_list:\n",
    "    current_state = path+state+'/'\n",
    "    agg_years_list = os.listdir(current_state)\n",
    "    \n",
    "    for year in agg_years_list:\n",
    "        curr_year = current_state+year+'/'\n",
    "        agg_files = os.listdir(curr_year)\n",
    "\n",
    "        for file in agg_files:\n",
    "            curr_file = curr_year+file\n",
    "            d = open(curr_file,'r')\n",
    "            P = json.load(d)\n",
    "            for i in P['data']['transactionData']:\n",
    "                name = i['name']\n",
    "                count = i['paymentInstruments'][0]['count']\n",
    "                amount = i['paymentInstruments'][0]['amount']\n",
    "                \n",
    "                columns['Transaction_Type'].append(name)\n",
    "                columns['Transactions_Count'].append(count)\n",
    "                columns['Transactions_Amount'].append(amount)\n",
    "                columns['Quarter'].append(int(file.strip('.json')))\n",
    "                columns['Year'].append(int(year))\n",
    "                columns['State'].append(state)\n",
    "agg_trans = pd.DataFrame(columns)"
   ]
  },
  {
   "cell_type": "code",
   "execution_count": 4,
   "id": "a2aa231f-25b0-440d-8b04-46ae735c0911",
   "metadata": {},
   "outputs": [
    {
     "data": {
      "text/html": [
       "<div>\n",
       "<style scoped>\n",
       "    .dataframe tbody tr th:only-of-type {\n",
       "        vertical-align: middle;\n",
       "    }\n",
       "\n",
       "    .dataframe tbody tr th {\n",
       "        vertical-align: top;\n",
       "    }\n",
       "\n",
       "    .dataframe thead th {\n",
       "        text-align: right;\n",
       "    }\n",
       "</style>\n",
       "<table border=\"1\" class=\"dataframe\">\n",
       "  <thead>\n",
       "    <tr style=\"text-align: right;\">\n",
       "      <th></th>\n",
       "      <th>State</th>\n",
       "      <th>Year</th>\n",
       "      <th>Quarter</th>\n",
       "      <th>Transaction_Type</th>\n",
       "      <th>Transactions_Count</th>\n",
       "      <th>Transactions_Amount</th>\n",
       "    </tr>\n",
       "  </thead>\n",
       "  <tbody>\n",
       "    <tr>\n",
       "      <th>0</th>\n",
       "      <td>andaman-&amp;-nicobar-islands</td>\n",
       "      <td>2018</td>\n",
       "      <td>1</td>\n",
       "      <td>Recharge &amp; bill payments</td>\n",
       "      <td>4200</td>\n",
       "      <td>1.845307e+06</td>\n",
       "    </tr>\n",
       "    <tr>\n",
       "      <th>1</th>\n",
       "      <td>andaman-&amp;-nicobar-islands</td>\n",
       "      <td>2018</td>\n",
       "      <td>1</td>\n",
       "      <td>Peer-to-peer payments</td>\n",
       "      <td>1871</td>\n",
       "      <td>1.213866e+07</td>\n",
       "    </tr>\n",
       "    <tr>\n",
       "      <th>2</th>\n",
       "      <td>andaman-&amp;-nicobar-islands</td>\n",
       "      <td>2018</td>\n",
       "      <td>1</td>\n",
       "      <td>Merchant payments</td>\n",
       "      <td>298</td>\n",
       "      <td>4.525072e+05</td>\n",
       "    </tr>\n",
       "    <tr>\n",
       "      <th>3</th>\n",
       "      <td>andaman-&amp;-nicobar-islands</td>\n",
       "      <td>2018</td>\n",
       "      <td>1</td>\n",
       "      <td>Financial Services</td>\n",
       "      <td>33</td>\n",
       "      <td>1.060142e+04</td>\n",
       "    </tr>\n",
       "    <tr>\n",
       "      <th>4</th>\n",
       "      <td>andaman-&amp;-nicobar-islands</td>\n",
       "      <td>2018</td>\n",
       "      <td>1</td>\n",
       "      <td>Others</td>\n",
       "      <td>256</td>\n",
       "      <td>1.846899e+05</td>\n",
       "    </tr>\n",
       "    <tr>\n",
       "      <th>...</th>\n",
       "      <td>...</td>\n",
       "      <td>...</td>\n",
       "      <td>...</td>\n",
       "      <td>...</td>\n",
       "      <td>...</td>\n",
       "      <td>...</td>\n",
       "    </tr>\n",
       "    <tr>\n",
       "      <th>3949</th>\n",
       "      <td>west-bengal</td>\n",
       "      <td>2023</td>\n",
       "      <td>2</td>\n",
       "      <td>Merchant payments</td>\n",
       "      <td>245111000</td>\n",
       "      <td>1.767046e+11</td>\n",
       "    </tr>\n",
       "    <tr>\n",
       "      <th>3950</th>\n",
       "      <td>west-bengal</td>\n",
       "      <td>2023</td>\n",
       "      <td>2</td>\n",
       "      <td>Peer-to-peer payments</td>\n",
       "      <td>240347041</td>\n",
       "      <td>7.970548e+11</td>\n",
       "    </tr>\n",
       "    <tr>\n",
       "      <th>3951</th>\n",
       "      <td>west-bengal</td>\n",
       "      <td>2023</td>\n",
       "      <td>2</td>\n",
       "      <td>Recharge &amp; bill payments</td>\n",
       "      <td>58950434</td>\n",
       "      <td>3.478924e+10</td>\n",
       "    </tr>\n",
       "    <tr>\n",
       "      <th>3952</th>\n",
       "      <td>west-bengal</td>\n",
       "      <td>2023</td>\n",
       "      <td>2</td>\n",
       "      <td>Financial Services</td>\n",
       "      <td>327537</td>\n",
       "      <td>3.174670e+08</td>\n",
       "    </tr>\n",
       "    <tr>\n",
       "      <th>3953</th>\n",
       "      <td>west-bengal</td>\n",
       "      <td>2023</td>\n",
       "      <td>2</td>\n",
       "      <td>Others</td>\n",
       "      <td>581674</td>\n",
       "      <td>4.489893e+08</td>\n",
       "    </tr>\n",
       "  </tbody>\n",
       "</table>\n",
       "<p>3954 rows × 6 columns</p>\n",
       "</div>"
      ],
      "text/plain": [
       "                          State  Year  Quarter          Transaction_Type  \\\n",
       "0     andaman-&-nicobar-islands  2018        1  Recharge & bill payments   \n",
       "1     andaman-&-nicobar-islands  2018        1     Peer-to-peer payments   \n",
       "2     andaman-&-nicobar-islands  2018        1         Merchant payments   \n",
       "3     andaman-&-nicobar-islands  2018        1        Financial Services   \n",
       "4     andaman-&-nicobar-islands  2018        1                    Others   \n",
       "...                         ...   ...      ...                       ...   \n",
       "3949                west-bengal  2023        2         Merchant payments   \n",
       "3950                west-bengal  2023        2     Peer-to-peer payments   \n",
       "3951                west-bengal  2023        2  Recharge & bill payments   \n",
       "3952                west-bengal  2023        2        Financial Services   \n",
       "3953                west-bengal  2023        2                    Others   \n",
       "\n",
       "      Transactions_Count  Transactions_Amount  \n",
       "0                   4200         1.845307e+06  \n",
       "1                   1871         1.213866e+07  \n",
       "2                    298         4.525072e+05  \n",
       "3                     33         1.060142e+04  \n",
       "4                    256         1.846899e+05  \n",
       "...                  ...                  ...  \n",
       "3949           245111000         1.767046e+11  \n",
       "3950           240347041         7.970548e+11  \n",
       "3951            58950434         3.478924e+10  \n",
       "3952              327537         3.174670e+08  \n",
       "3953              581674         4.489893e+08  \n",
       "\n",
       "[3954 rows x 6 columns]"
      ]
     },
     "execution_count": 4,
     "metadata": {},
     "output_type": "execute_result"
    }
   ],
   "source": [
    "agg_trans"
   ]
  },
  {
   "cell_type": "code",
   "execution_count": null,
   "id": "24f4887d-23f5-4e59-ada4-36474239291d",
   "metadata": {},
   "outputs": [],
   "source": []
  },
  {
   "cell_type": "markdown",
   "id": "370f8c25-e297-48f1-8d06-e8452429566c",
   "metadata": {
    "tags": []
   },
   "source": [
    "# Aggregated Users"
   ]
  },
  {
   "cell_type": "code",
   "execution_count": 5,
   "id": "a0d78bac-30e2-452e-b458-981e5713a4ae",
   "metadata": {},
   "outputs": [
    {
     "data": {
      "application/json": {
       "code": "SUCCESS",
       "data": {
        "aggregated": {
         "appOpens": 0,
         "registeredUsers": 6740
        },
        "usersByDevice": [
         {
          "brand": "Xiaomi",
          "count": 1665,
          "percentage": 0.2470326409495549
         },
         {
          "brand": "Samsung",
          "count": 1445,
          "percentage": 0.21439169139465875
         },
         {
          "brand": "Vivo",
          "count": 982,
          "percentage": 0.1456973293768546
         },
         {
          "brand": "Oppo",
          "count": 501,
          "percentage": 0.07433234421364986
         },
         {
          "brand": "OnePlus",
          "count": 332,
          "percentage": 0.04925816023738872
         },
         {
          "brand": "Realme",
          "count": 316,
          "percentage": 0.04688427299703264
         },
         {
          "brand": "Apple",
          "count": 229,
          "percentage": 0.03397626112759644
         },
         {
          "brand": "Motorola",
          "count": 226,
          "percentage": 0.03353115727002967
         },
         {
          "brand": "Lenovo",
          "count": 202,
          "percentage": 0.02997032640949555
         },
         {
          "brand": "Huawei",
          "count": 158,
          "percentage": 0.02344213649851632
         },
         {
          "brand": "Others",
          "count": 684,
          "percentage": 0.10148367952522255
         }
        ]
       },
       "responseTimestamp": 1630501494543,
       "success": true
      },
      "text/plain": [
       "<IPython.core.display.JSON object>"
      ]
     },
     "execution_count": 5,
     "metadata": {
      "application/json": {
       "expanded": false,
       "root": "root"
      }
     },
     "output_type": "execute_result"
    }
   ],
   "source": [
    "path = 'C:/Users/kisho/PhonePe/pulse/data/aggregated/user/country/india/state/'\n",
    "agg_states_list = os.listdir(path)\n",
    "\n",
    "for state in agg_states_list:\n",
    "    cur_state = path+state+'/'\n",
    "    agg_years_list = os.listdir(cur_state)\n",
    "    \n",
    "    for year in agg_years_list:\n",
    "        cur_year = cur_state+year+'/'\n",
    "        agg_files = os.listdir(cur_year)\n",
    "        \n",
    "        for file in agg_files:\n",
    "            cur_file = cur_year+file\n",
    "            d = open(cur_file,'r')\n",
    "            P = json.load(d)\n",
    "            break\n",
    "        break\n",
    "    break\n",
    "JSON(P)"
   ]
  },
  {
   "cell_type": "code",
   "execution_count": 6,
   "id": "7ade520e-46ea-450a-951e-2c97a6e16441",
   "metadata": {},
   "outputs": [],
   "source": [
    "path = 'C:/Users/kisho/PhonePe/pulse/data/aggregated/user/country/india/state/'\n",
    "agg_states_list = os.listdir(path)\n",
    "\n",
    "columns = {'State':[],'Year':[],'Quarter':[],'Brand':[],'Users_Count':[],'Percentage':[]}\n",
    "\n",
    "for state in agg_states_list:\n",
    "    cur_state = path+state+'/'\n",
    "    agg_years_list = os.listdir(cur_state)\n",
    "    \n",
    "    for year in agg_years_list:\n",
    "        cur_year = cur_state+year+'/'\n",
    "        agg_files = os.listdir(cur_year)\n",
    "        \n",
    "        for file in agg_files:\n",
    "            cur_file = cur_year+file\n",
    "            d = open(cur_file,'r')\n",
    "            P = json.load(d)\n",
    "            try:\n",
    "                for i in P['data']['usersByDevice']:\n",
    "                    brand = i['brand']\n",
    "                    count = i['count']\n",
    "                    percentage = i['percentage']\n",
    "\n",
    "                    columns['Brand'].append(brand)\n",
    "                    columns['Users_Count'].append(count)\n",
    "                    columns['Percentage'].append(percentage)\n",
    "                    columns['Quarter'].append(int(file.strip('.json')))\n",
    "                    columns['Year'].append(int(year))\n",
    "                    columns['State'].append(state)\n",
    "            except:\n",
    "                pass\n",
    "agg_users = pd.DataFrame(columns)              "
   ]
  },
  {
   "cell_type": "code",
   "execution_count": 7,
   "id": "10faa8e0-eab8-4e3b-a190-765b6408a7da",
   "metadata": {},
   "outputs": [
    {
     "data": {
      "text/html": [
       "<div>\n",
       "<style scoped>\n",
       "    .dataframe tbody tr th:only-of-type {\n",
       "        vertical-align: middle;\n",
       "    }\n",
       "\n",
       "    .dataframe tbody tr th {\n",
       "        vertical-align: top;\n",
       "    }\n",
       "\n",
       "    .dataframe thead th {\n",
       "        text-align: right;\n",
       "    }\n",
       "</style>\n",
       "<table border=\"1\" class=\"dataframe\">\n",
       "  <thead>\n",
       "    <tr style=\"text-align: right;\">\n",
       "      <th></th>\n",
       "      <th>State</th>\n",
       "      <th>Year</th>\n",
       "      <th>Quarter</th>\n",
       "      <th>Brand</th>\n",
       "      <th>Users_Count</th>\n",
       "      <th>Percentage</th>\n",
       "    </tr>\n",
       "  </thead>\n",
       "  <tbody>\n",
       "    <tr>\n",
       "      <th>0</th>\n",
       "      <td>andaman-&amp;-nicobar-islands</td>\n",
       "      <td>2018</td>\n",
       "      <td>1</td>\n",
       "      <td>Xiaomi</td>\n",
       "      <td>1665</td>\n",
       "      <td>0.247033</td>\n",
       "    </tr>\n",
       "    <tr>\n",
       "      <th>1</th>\n",
       "      <td>andaman-&amp;-nicobar-islands</td>\n",
       "      <td>2018</td>\n",
       "      <td>1</td>\n",
       "      <td>Samsung</td>\n",
       "      <td>1445</td>\n",
       "      <td>0.214392</td>\n",
       "    </tr>\n",
       "    <tr>\n",
       "      <th>2</th>\n",
       "      <td>andaman-&amp;-nicobar-islands</td>\n",
       "      <td>2018</td>\n",
       "      <td>1</td>\n",
       "      <td>Vivo</td>\n",
       "      <td>982</td>\n",
       "      <td>0.145697</td>\n",
       "    </tr>\n",
       "    <tr>\n",
       "      <th>3</th>\n",
       "      <td>andaman-&amp;-nicobar-islands</td>\n",
       "      <td>2018</td>\n",
       "      <td>1</td>\n",
       "      <td>Oppo</td>\n",
       "      <td>501</td>\n",
       "      <td>0.074332</td>\n",
       "    </tr>\n",
       "    <tr>\n",
       "      <th>4</th>\n",
       "      <td>andaman-&amp;-nicobar-islands</td>\n",
       "      <td>2018</td>\n",
       "      <td>1</td>\n",
       "      <td>OnePlus</td>\n",
       "      <td>332</td>\n",
       "      <td>0.049258</td>\n",
       "    </tr>\n",
       "    <tr>\n",
       "      <th>...</th>\n",
       "      <td>...</td>\n",
       "      <td>...</td>\n",
       "      <td>...</td>\n",
       "      <td>...</td>\n",
       "      <td>...</td>\n",
       "      <td>...</td>\n",
       "    </tr>\n",
       "    <tr>\n",
       "      <th>6727</th>\n",
       "      <td>west-bengal</td>\n",
       "      <td>2022</td>\n",
       "      <td>1</td>\n",
       "      <td>Lenovo</td>\n",
       "      <td>330017</td>\n",
       "      <td>0.015056</td>\n",
       "    </tr>\n",
       "    <tr>\n",
       "      <th>6728</th>\n",
       "      <td>west-bengal</td>\n",
       "      <td>2022</td>\n",
       "      <td>1</td>\n",
       "      <td>Infinix</td>\n",
       "      <td>284678</td>\n",
       "      <td>0.012987</td>\n",
       "    </tr>\n",
       "    <tr>\n",
       "      <th>6729</th>\n",
       "      <td>west-bengal</td>\n",
       "      <td>2022</td>\n",
       "      <td>1</td>\n",
       "      <td>Asus</td>\n",
       "      <td>280347</td>\n",
       "      <td>0.012790</td>\n",
       "    </tr>\n",
       "    <tr>\n",
       "      <th>6730</th>\n",
       "      <td>west-bengal</td>\n",
       "      <td>2022</td>\n",
       "      <td>1</td>\n",
       "      <td>Apple</td>\n",
       "      <td>277752</td>\n",
       "      <td>0.012671</td>\n",
       "    </tr>\n",
       "    <tr>\n",
       "      <th>6731</th>\n",
       "      <td>west-bengal</td>\n",
       "      <td>2022</td>\n",
       "      <td>1</td>\n",
       "      <td>Others</td>\n",
       "      <td>2196334</td>\n",
       "      <td>0.100199</td>\n",
       "    </tr>\n",
       "  </tbody>\n",
       "</table>\n",
       "<p>6732 rows × 6 columns</p>\n",
       "</div>"
      ],
      "text/plain": [
       "                          State  Year  Quarter    Brand  Users_Count  \\\n",
       "0     andaman-&-nicobar-islands  2018        1   Xiaomi         1665   \n",
       "1     andaman-&-nicobar-islands  2018        1  Samsung         1445   \n",
       "2     andaman-&-nicobar-islands  2018        1     Vivo          982   \n",
       "3     andaman-&-nicobar-islands  2018        1     Oppo          501   \n",
       "4     andaman-&-nicobar-islands  2018        1  OnePlus          332   \n",
       "...                         ...   ...      ...      ...          ...   \n",
       "6727                west-bengal  2022        1   Lenovo       330017   \n",
       "6728                west-bengal  2022        1  Infinix       284678   \n",
       "6729                west-bengal  2022        1     Asus       280347   \n",
       "6730                west-bengal  2022        1    Apple       277752   \n",
       "6731                west-bengal  2022        1   Others      2196334   \n",
       "\n",
       "      Percentage  \n",
       "0       0.247033  \n",
       "1       0.214392  \n",
       "2       0.145697  \n",
       "3       0.074332  \n",
       "4       0.049258  \n",
       "...          ...  \n",
       "6727    0.015056  \n",
       "6728    0.012987  \n",
       "6729    0.012790  \n",
       "6730    0.012671  \n",
       "6731    0.100199  \n",
       "\n",
       "[6732 rows x 6 columns]"
      ]
     },
     "execution_count": 7,
     "metadata": {},
     "output_type": "execute_result"
    }
   ],
   "source": [
    "agg_users"
   ]
  },
  {
   "cell_type": "code",
   "execution_count": null,
   "id": "9433ab02-045a-4b14-81f8-08783a431763",
   "metadata": {},
   "outputs": [],
   "source": []
  },
  {
   "cell_type": "markdown",
   "id": "572facbb-919c-4c59-b7e4-48a351710c47",
   "metadata": {
    "tags": []
   },
   "source": [
    "# Map transactions"
   ]
  },
  {
   "cell_type": "code",
   "execution_count": 8,
   "id": "ba36e8ce-7dfe-48ae-8338-f19cbcd4b77b",
   "metadata": {},
   "outputs": [
    {
     "data": {
      "application/json": {
       "code": "SUCCESS",
       "data": {
        "hoverDataList": [
         {
          "metric": [
           {
            "amount": 931663.0770939873,
            "count": 442,
            "type": "TOTAL"
           }
          ],
          "name": "north and middle andaman district"
         },
         {
          "metric": [
           {
            "amount": 12560249.34366581,
            "count": 5688,
            "type": "TOTAL"
           }
          ],
          "name": "south andaman district"
         },
         {
          "metric": [
           {
            "amount": 1139848.801225994,
            "count": 528,
            "type": "TOTAL"
           }
          ],
          "name": "nicobars district"
         }
        ]
       },
       "responseTimestamp": 1630502910687,
       "success": true
      },
      "text/plain": [
       "<IPython.core.display.JSON object>"
      ]
     },
     "execution_count": 8,
     "metadata": {
      "application/json": {
       "expanded": false,
       "root": "root"
      }
     },
     "output_type": "execute_result"
    }
   ],
   "source": [
    "path = 'C:/Users/kisho/PhonePe/pulse/data/map/transaction/hover/country/india/state/'\n",
    "agg_states_list = os.listdir(path)\n",
    "\n",
    "for state in agg_states_list:\n",
    "    cur_state = path+state+'/'\n",
    "    agg_years_list = os.listdir(cur_state)\n",
    "    \n",
    "    for year in agg_years_list:\n",
    "        cur_year = cur_state+year+'/'\n",
    "        agg_files = os.listdir(cur_year)\n",
    "        \n",
    "        for file in agg_files:\n",
    "            cur_file = cur_year+file\n",
    "            d = open(cur_file,'r')\n",
    "            P = json.load(d)\n",
    "            break\n",
    "        break\n",
    "    break\n",
    "JSON(P)"
   ]
  },
  {
   "cell_type": "code",
   "execution_count": 9,
   "id": "28a8330e-10d8-40e1-9d4f-7e18a9efc162",
   "metadata": {},
   "outputs": [],
   "source": [
    "path = 'C:/Users/kisho/PhonePe/pulse/data/map/transaction/hover/country/india/state/'\n",
    "agg_states_list = os.listdir(path)\n",
    "\n",
    "columns = {'State':[],'Year':[],'Quarter':[],'District':[],'Transactions_Count':[],'Transactions_Amount':[]}\n",
    "\n",
    "for state in agg_states_list:\n",
    "    cur_state = path+state+'/'\n",
    "    agg_years_list = os.listdir(cur_state)\n",
    "    \n",
    "    for year in agg_years_list:\n",
    "        cur_year = cur_state+year+'/'\n",
    "        agg_files = os.listdir(cur_year)\n",
    "        \n",
    "        for file in agg_files:\n",
    "            cur_file = cur_year+file\n",
    "            d = open(cur_file,'r')\n",
    "            P = json.load(d)\n",
    "            \n",
    "            for i in P['data']['hoverDataList']:\n",
    "                district = i['name']\n",
    "                count = i['metric'][0]['count']\n",
    "                amount = i['metric'][0]['amount']\n",
    "                \n",
    "                columns['District'].append(district)\n",
    "                columns['Transactions_Count'].append(count)\n",
    "                columns['Transactions_Amount'].append(amount)\n",
    "                columns['Quarter'].append(int(file.strip('.json')))\n",
    "                columns['Year'].append(int(year))\n",
    "                columns['State'].append(state)\n",
    "map_trans = pd.DataFrame(columns)"
   ]
  },
  {
   "cell_type": "code",
   "execution_count": 10,
   "id": "8d1ede61-72c8-4b35-9664-af93fbc2022f",
   "metadata": {},
   "outputs": [
    {
     "data": {
      "text/html": [
       "<div>\n",
       "<style scoped>\n",
       "    .dataframe tbody tr th:only-of-type {\n",
       "        vertical-align: middle;\n",
       "    }\n",
       "\n",
       "    .dataframe tbody tr th {\n",
       "        vertical-align: top;\n",
       "    }\n",
       "\n",
       "    .dataframe thead th {\n",
       "        text-align: right;\n",
       "    }\n",
       "</style>\n",
       "<table border=\"1\" class=\"dataframe\">\n",
       "  <thead>\n",
       "    <tr style=\"text-align: right;\">\n",
       "      <th></th>\n",
       "      <th>State</th>\n",
       "      <th>Year</th>\n",
       "      <th>Quarter</th>\n",
       "      <th>District</th>\n",
       "      <th>Transactions_Count</th>\n",
       "      <th>Transactions_Amount</th>\n",
       "    </tr>\n",
       "  </thead>\n",
       "  <tbody>\n",
       "    <tr>\n",
       "      <th>0</th>\n",
       "      <td>andaman-&amp;-nicobar-islands</td>\n",
       "      <td>2018</td>\n",
       "      <td>1</td>\n",
       "      <td>north and middle andaman district</td>\n",
       "      <td>442</td>\n",
       "      <td>9.316631e+05</td>\n",
       "    </tr>\n",
       "    <tr>\n",
       "      <th>1</th>\n",
       "      <td>andaman-&amp;-nicobar-islands</td>\n",
       "      <td>2018</td>\n",
       "      <td>1</td>\n",
       "      <td>south andaman district</td>\n",
       "      <td>5688</td>\n",
       "      <td>1.256025e+07</td>\n",
       "    </tr>\n",
       "    <tr>\n",
       "      <th>2</th>\n",
       "      <td>andaman-&amp;-nicobar-islands</td>\n",
       "      <td>2018</td>\n",
       "      <td>1</td>\n",
       "      <td>nicobars district</td>\n",
       "      <td>528</td>\n",
       "      <td>1.139849e+06</td>\n",
       "    </tr>\n",
       "    <tr>\n",
       "      <th>3</th>\n",
       "      <td>andaman-&amp;-nicobar-islands</td>\n",
       "      <td>2018</td>\n",
       "      <td>2</td>\n",
       "      <td>north and middle andaman district</td>\n",
       "      <td>825</td>\n",
       "      <td>1.317863e+06</td>\n",
       "    </tr>\n",
       "    <tr>\n",
       "      <th>4</th>\n",
       "      <td>andaman-&amp;-nicobar-islands</td>\n",
       "      <td>2018</td>\n",
       "      <td>2</td>\n",
       "      <td>south andaman district</td>\n",
       "      <td>9395</td>\n",
       "      <td>2.394824e+07</td>\n",
       "    </tr>\n",
       "    <tr>\n",
       "      <th>...</th>\n",
       "      <td>...</td>\n",
       "      <td>...</td>\n",
       "      <td>...</td>\n",
       "      <td>...</td>\n",
       "      <td>...</td>\n",
       "      <td>...</td>\n",
       "    </tr>\n",
       "    <tr>\n",
       "      <th>16095</th>\n",
       "      <td>west-bengal</td>\n",
       "      <td>2023</td>\n",
       "      <td>2</td>\n",
       "      <td>nadia district</td>\n",
       "      <td>26194658</td>\n",
       "      <td>5.410386e+10</td>\n",
       "    </tr>\n",
       "    <tr>\n",
       "      <th>16096</th>\n",
       "      <td>west-bengal</td>\n",
       "      <td>2023</td>\n",
       "      <td>2</td>\n",
       "      <td>birbhum district</td>\n",
       "      <td>14912523</td>\n",
       "      <td>2.941312e+10</td>\n",
       "    </tr>\n",
       "    <tr>\n",
       "      <th>16097</th>\n",
       "      <td>west-bengal</td>\n",
       "      <td>2023</td>\n",
       "      <td>2</td>\n",
       "      <td>purba medinipur district</td>\n",
       "      <td>30724502</td>\n",
       "      <td>6.595899e+10</td>\n",
       "    </tr>\n",
       "    <tr>\n",
       "      <th>16098</th>\n",
       "      <td>west-bengal</td>\n",
       "      <td>2023</td>\n",
       "      <td>2</td>\n",
       "      <td>maldah district</td>\n",
       "      <td>24677357</td>\n",
       "      <td>5.218621e+10</td>\n",
       "    </tr>\n",
       "    <tr>\n",
       "      <th>16099</th>\n",
       "      <td>west-bengal</td>\n",
       "      <td>2023</td>\n",
       "      <td>2</td>\n",
       "      <td>darjiling district</td>\n",
       "      <td>13049366</td>\n",
       "      <td>2.372866e+10</td>\n",
       "    </tr>\n",
       "  </tbody>\n",
       "</table>\n",
       "<p>16100 rows × 6 columns</p>\n",
       "</div>"
      ],
      "text/plain": [
       "                           State  Year  Quarter  \\\n",
       "0      andaman-&-nicobar-islands  2018        1   \n",
       "1      andaman-&-nicobar-islands  2018        1   \n",
       "2      andaman-&-nicobar-islands  2018        1   \n",
       "3      andaman-&-nicobar-islands  2018        2   \n",
       "4      andaman-&-nicobar-islands  2018        2   \n",
       "...                          ...   ...      ...   \n",
       "16095                west-bengal  2023        2   \n",
       "16096                west-bengal  2023        2   \n",
       "16097                west-bengal  2023        2   \n",
       "16098                west-bengal  2023        2   \n",
       "16099                west-bengal  2023        2   \n",
       "\n",
       "                                District  Transactions_Count  \\\n",
       "0      north and middle andaman district                 442   \n",
       "1                 south andaman district                5688   \n",
       "2                      nicobars district                 528   \n",
       "3      north and middle andaman district                 825   \n",
       "4                 south andaman district                9395   \n",
       "...                                  ...                 ...   \n",
       "16095                     nadia district            26194658   \n",
       "16096                   birbhum district            14912523   \n",
       "16097           purba medinipur district            30724502   \n",
       "16098                    maldah district            24677357   \n",
       "16099                 darjiling district            13049366   \n",
       "\n",
       "       Transactions_Amount  \n",
       "0             9.316631e+05  \n",
       "1             1.256025e+07  \n",
       "2             1.139849e+06  \n",
       "3             1.317863e+06  \n",
       "4             2.394824e+07  \n",
       "...                    ...  \n",
       "16095         5.410386e+10  \n",
       "16096         2.941312e+10  \n",
       "16097         6.595899e+10  \n",
       "16098         5.218621e+10  \n",
       "16099         2.372866e+10  \n",
       "\n",
       "[16100 rows x 6 columns]"
      ]
     },
     "execution_count": 10,
     "metadata": {},
     "output_type": "execute_result"
    }
   ],
   "source": [
    "map_trans"
   ]
  },
  {
   "cell_type": "code",
   "execution_count": null,
   "id": "47bb4f0c-4d12-4858-ad28-22582471eade",
   "metadata": {},
   "outputs": [],
   "source": []
  },
  {
   "cell_type": "markdown",
   "id": "195760c8-e83b-4fd2-a7a5-f55bf7bb416b",
   "metadata": {
    "tags": []
   },
   "source": [
    "# Map Users"
   ]
  },
  {
   "cell_type": "code",
   "execution_count": 11,
   "id": "fdcca9a2-c072-466b-b716-2bfb63322d75",
   "metadata": {},
   "outputs": [
    {
     "data": {
      "application/json": {
       "code": "SUCCESS",
       "data": {
        "hoverData": {
         "nicobars district": {
          "appOpens": 0,
          "registeredUsers": 262
         },
         "north and middle andaman district": {
          "appOpens": 0,
          "registeredUsers": 632
         },
         "south andaman district": {
          "appOpens": 0,
          "registeredUsers": 5846
         }
        }
       },
       "responseTimestamp": 1630502911500,
       "success": true
      },
      "text/plain": [
       "<IPython.core.display.JSON object>"
      ]
     },
     "execution_count": 11,
     "metadata": {
      "application/json": {
       "expanded": false,
       "root": "root"
      }
     },
     "output_type": "execute_result"
    }
   ],
   "source": [
    "path = 'C:/Users/kisho/PhonePe/pulse/data/map/user/hover/country/india/state/'\n",
    "agg_states_list = os.listdir(path)\n",
    "\n",
    "for state in agg_states_list:\n",
    "    cur_state = path+state+'/'\n",
    "    agg_years_list = os.listdir(cur_state)\n",
    "    \n",
    "    for year in agg_years_list:\n",
    "        cur_year = cur_state+year+'/'\n",
    "        agg_files = os.listdir(cur_year)\n",
    "        \n",
    "        for file in agg_files:\n",
    "            cur_file = cur_year+file\n",
    "            d = open(cur_file,'r')\n",
    "            P = json.load(d)\n",
    "            break\n",
    "        break\n",
    "    break\n",
    "JSON(P)"
   ]
  },
  {
   "cell_type": "code",
   "execution_count": 12,
   "id": "1cb4ca97-3c3a-464f-9415-7d0e9c504ccb",
   "metadata": {},
   "outputs": [],
   "source": [
    "path = 'C:/Users/kisho/PhonePe/pulse/data/map/user/hover/country/india/state/'\n",
    "agg_states_list = os.listdir(path)\n",
    "\n",
    "columns = {'State':[],'Year':[],'Quarter':[],'District':[],'Registered_Users':[],'App_Opens':[]}\n",
    "\n",
    "for state in agg_states_list:\n",
    "    cur_state = path+state+'/'\n",
    "    agg_years_list = os.listdir(cur_state)\n",
    "    \n",
    "    for year in agg_years_list:\n",
    "        cur_year = cur_state+year+'/'\n",
    "        agg_files = os.listdir(cur_year)\n",
    "        \n",
    "        for file in agg_files:\n",
    "            cur_file = cur_year+file\n",
    "            d = open(cur_file,'r')\n",
    "            P = json.load(d)\n",
    "            \n",
    "            for i in P['data']['hoverData'].items():\n",
    "                district = i[0]\n",
    "                registeredUsers = i[1]['registeredUsers']\n",
    "                appOpens = i[1]['appOpens']\n",
    "                \n",
    "                columns['District'].append(district)\n",
    "                columns['Registered_Users'].append(registeredUsers)\n",
    "                columns['App_Opens'].append(appOpens)\n",
    "                columns['Quarter'].append(int(file.strip('.json')))\n",
    "                columns['Year'].append(int(year))\n",
    "                columns['State'].append(state)                \n",
    "map_users = pd.DataFrame(columns)"
   ]
  },
  {
   "cell_type": "code",
   "execution_count": 13,
   "id": "0b75319e-f5e9-4586-98a1-258ba681d1e5",
   "metadata": {},
   "outputs": [
    {
     "data": {
      "text/html": [
       "<div>\n",
       "<style scoped>\n",
       "    .dataframe tbody tr th:only-of-type {\n",
       "        vertical-align: middle;\n",
       "    }\n",
       "\n",
       "    .dataframe tbody tr th {\n",
       "        vertical-align: top;\n",
       "    }\n",
       "\n",
       "    .dataframe thead th {\n",
       "        text-align: right;\n",
       "    }\n",
       "</style>\n",
       "<table border=\"1\" class=\"dataframe\">\n",
       "  <thead>\n",
       "    <tr style=\"text-align: right;\">\n",
       "      <th></th>\n",
       "      <th>State</th>\n",
       "      <th>Year</th>\n",
       "      <th>Quarter</th>\n",
       "      <th>District</th>\n",
       "      <th>Registered_Users</th>\n",
       "      <th>App_Opens</th>\n",
       "    </tr>\n",
       "  </thead>\n",
       "  <tbody>\n",
       "    <tr>\n",
       "      <th>0</th>\n",
       "      <td>andaman-&amp;-nicobar-islands</td>\n",
       "      <td>2018</td>\n",
       "      <td>1</td>\n",
       "      <td>north and middle andaman district</td>\n",
       "      <td>632</td>\n",
       "      <td>0</td>\n",
       "    </tr>\n",
       "    <tr>\n",
       "      <th>1</th>\n",
       "      <td>andaman-&amp;-nicobar-islands</td>\n",
       "      <td>2018</td>\n",
       "      <td>1</td>\n",
       "      <td>south andaman district</td>\n",
       "      <td>5846</td>\n",
       "      <td>0</td>\n",
       "    </tr>\n",
       "    <tr>\n",
       "      <th>2</th>\n",
       "      <td>andaman-&amp;-nicobar-islands</td>\n",
       "      <td>2018</td>\n",
       "      <td>1</td>\n",
       "      <td>nicobars district</td>\n",
       "      <td>262</td>\n",
       "      <td>0</td>\n",
       "    </tr>\n",
       "    <tr>\n",
       "      <th>3</th>\n",
       "      <td>andaman-&amp;-nicobar-islands</td>\n",
       "      <td>2018</td>\n",
       "      <td>2</td>\n",
       "      <td>north and middle andaman district</td>\n",
       "      <td>911</td>\n",
       "      <td>0</td>\n",
       "    </tr>\n",
       "    <tr>\n",
       "      <th>4</th>\n",
       "      <td>andaman-&amp;-nicobar-islands</td>\n",
       "      <td>2018</td>\n",
       "      <td>2</td>\n",
       "      <td>south andaman district</td>\n",
       "      <td>8143</td>\n",
       "      <td>0</td>\n",
       "    </tr>\n",
       "    <tr>\n",
       "      <th>...</th>\n",
       "      <td>...</td>\n",
       "      <td>...</td>\n",
       "      <td>...</td>\n",
       "      <td>...</td>\n",
       "      <td>...</td>\n",
       "      <td>...</td>\n",
       "    </tr>\n",
       "    <tr>\n",
       "      <th>16099</th>\n",
       "      <td>west-bengal</td>\n",
       "      <td>2023</td>\n",
       "      <td>2</td>\n",
       "      <td>nadia district</td>\n",
       "      <td>1482400</td>\n",
       "      <td>9509833</td>\n",
       "    </tr>\n",
       "    <tr>\n",
       "      <th>16100</th>\n",
       "      <td>west-bengal</td>\n",
       "      <td>2023</td>\n",
       "      <td>2</td>\n",
       "      <td>birbhum district</td>\n",
       "      <td>934943</td>\n",
       "      <td>12789154</td>\n",
       "    </tr>\n",
       "    <tr>\n",
       "      <th>16101</th>\n",
       "      <td>west-bengal</td>\n",
       "      <td>2023</td>\n",
       "      <td>2</td>\n",
       "      <td>purba medinipur district</td>\n",
       "      <td>1468608</td>\n",
       "      <td>12096564</td>\n",
       "    </tr>\n",
       "    <tr>\n",
       "      <th>16102</th>\n",
       "      <td>west-bengal</td>\n",
       "      <td>2023</td>\n",
       "      <td>2</td>\n",
       "      <td>maldah district</td>\n",
       "      <td>1046132</td>\n",
       "      <td>17662446</td>\n",
       "    </tr>\n",
       "    <tr>\n",
       "      <th>16103</th>\n",
       "      <td>west-bengal</td>\n",
       "      <td>2023</td>\n",
       "      <td>2</td>\n",
       "      <td>darjiling district</td>\n",
       "      <td>613398</td>\n",
       "      <td>15141713</td>\n",
       "    </tr>\n",
       "  </tbody>\n",
       "</table>\n",
       "<p>16104 rows × 6 columns</p>\n",
       "</div>"
      ],
      "text/plain": [
       "                           State  Year  Quarter  \\\n",
       "0      andaman-&-nicobar-islands  2018        1   \n",
       "1      andaman-&-nicobar-islands  2018        1   \n",
       "2      andaman-&-nicobar-islands  2018        1   \n",
       "3      andaman-&-nicobar-islands  2018        2   \n",
       "4      andaman-&-nicobar-islands  2018        2   \n",
       "...                          ...   ...      ...   \n",
       "16099                west-bengal  2023        2   \n",
       "16100                west-bengal  2023        2   \n",
       "16101                west-bengal  2023        2   \n",
       "16102                west-bengal  2023        2   \n",
       "16103                west-bengal  2023        2   \n",
       "\n",
       "                                District  Registered_Users  App_Opens  \n",
       "0      north and middle andaman district               632          0  \n",
       "1                 south andaman district              5846          0  \n",
       "2                      nicobars district               262          0  \n",
       "3      north and middle andaman district               911          0  \n",
       "4                 south andaman district              8143          0  \n",
       "...                                  ...               ...        ...  \n",
       "16099                     nadia district           1482400    9509833  \n",
       "16100                   birbhum district            934943   12789154  \n",
       "16101           purba medinipur district           1468608   12096564  \n",
       "16102                    maldah district           1046132   17662446  \n",
       "16103                 darjiling district            613398   15141713  \n",
       "\n",
       "[16104 rows x 6 columns]"
      ]
     },
     "execution_count": 13,
     "metadata": {},
     "output_type": "execute_result"
    }
   ],
   "source": [
    "map_users"
   ]
  },
  {
   "cell_type": "code",
   "execution_count": null,
   "id": "847b85fc-8f3b-4066-889e-e3c931eeb45e",
   "metadata": {},
   "outputs": [],
   "source": []
  },
  {
   "cell_type": "markdown",
   "id": "5195b2e7-ae5a-4f99-ab62-3ff9fa1f4693",
   "metadata": {
    "tags": []
   },
   "source": [
    "# Top Transactions"
   ]
  },
  {
   "cell_type": "code",
   "execution_count": 14,
   "id": "8ffb0e2a-0125-4570-b7d8-40c728fa7b38",
   "metadata": {},
   "outputs": [
    {
     "data": {
      "application/json": {
       "code": "SUCCESS",
       "data": {
        "districts": [
         {
          "entityName": "south andaman",
          "metric": {
           "amount": 12560249.343665812,
           "count": 5688,
           "type": "TOTAL"
          }
         },
         {
          "entityName": "nicobars",
          "metric": {
           "amount": 1139848.801225994,
           "count": 528,
           "type": "TOTAL"
          }
         },
         {
          "entityName": "north and middle andaman",
          "metric": {
           "amount": 931663.0770939873,
           "count": 442,
           "type": "TOTAL"
          }
         }
        ],
        "pincodes": [
         {
          "entityName": "744101",
          "metric": {
           "amount": 2769297.9039997994,
           "count": 1622,
           "type": "TOTAL"
          }
         },
         {
          "entityName": "744103",
          "metric": {
           "amount": 2238041.8716124697,
           "count": 1223,
           "type": "TOTAL"
          }
         },
         {
          "entityName": "744102",
          "metric": {
           "amount": 3519059.937562449,
           "count": 969,
           "type": "TOTAL"
          }
         },
         {
          "entityName": "744105",
          "metric": {
           "amount": 1298560.9515503529,
           "count": 685,
           "type": "TOTAL"
          }
         },
         {
          "entityName": "744104",
          "metric": {
           "amount": 1039715.3111450541,
           "count": 340,
           "type": "TOTAL"
          }
         },
         {
          "entityName": "744107",
          "metric": {
           "amount": 556059.5308556345,
           "count": 302,
           "type": "TOTAL"
          }
         },
         {
          "entityName": "744301",
          "metric": {
           "amount": 445739.1633851439,
           "count": 283,
           "type": "TOTAL"
          }
         },
         {
          "entityName": "744112",
          "metric": {
           "amount": 333709.56700413954,
           "count": 269,
           "type": "TOTAL"
          }
         },
         {
          "entityName": "744202",
          "metric": {
           "amount": 238914.01667155625,
           "count": 193,
           "type": "TOTAL"
          }
         },
         {
          "entityName": "744302",
          "metric": {
           "amount": 547469.6509380838,
           "count": 168,
           "type": "TOTAL"
          }
         }
        ],
        "states": null
       },
       "responseTimestamp": 1630501486876,
       "success": true
      },
      "text/plain": [
       "<IPython.core.display.JSON object>"
      ]
     },
     "execution_count": 14,
     "metadata": {
      "application/json": {
       "expanded": false,
       "root": "root"
      }
     },
     "output_type": "execute_result"
    }
   ],
   "source": [
    "path = 'C:/Users/kisho/PhonePe/pulse/data/top/transaction/country/india/state/'\n",
    "agg_states_list = os.listdir(path)\n",
    "\n",
    "for state in agg_states_list:\n",
    "    current_state = path+state+'/'\n",
    "    agg_years_list = os.listdir(current_state)\n",
    "    \n",
    "    for year in agg_years_list:\n",
    "        curr_year = current_state+year+'/'\n",
    "        agg_files = os.listdir(curr_year)\n",
    "\n",
    "        for file in agg_files:\n",
    "            curr_file = curr_year+file\n",
    "            d = open(curr_file,'r')\n",
    "            P = json.load(d)\n",
    "            break\n",
    "        break\n",
    "    break\n",
    "JSON(P)"
   ]
  },
  {
   "cell_type": "code",
   "execution_count": 15,
   "id": "abc592a8-e9cc-405f-84d5-962aaf6d13a2",
   "metadata": {},
   "outputs": [],
   "source": [
    "path = 'C:/Users/kisho/PhonePe/pulse/data/top/transaction/country/india/state/'\n",
    "agg_states_list = os.listdir(path)\n",
    "\n",
    "columns = {'State':[],'Year':[],'Quarter':[],'Pincode':[],'Transactions_Count':[],'Transactions_Amount':[]}\n",
    "\n",
    "for state in agg_states_list:\n",
    "    current_state = path+state+'/'\n",
    "    agg_years_list = os.listdir(current_state)\n",
    "    \n",
    "    for year in agg_years_list:\n",
    "        curr_year = current_state+year+'/'\n",
    "        agg_files = os.listdir(curr_year)\n",
    "\n",
    "        for file in agg_files:\n",
    "            curr_file = curr_year+file\n",
    "            d = open(curr_file,'r')\n",
    "            P = json.load(d)\n",
    "            for i in P['data']['pincodes']:\n",
    "                pincode = i['entityName']\n",
    "                count = i['metric']['count']\n",
    "                amount = i['metric']['amount']\n",
    "                \n",
    "                columns['Pincode'].append(pincode)\n",
    "                columns['Transactions_Count'].append(count)\n",
    "                columns['Transactions_Amount'].append(amount)\n",
    "                columns['Quarter'].append(int(file.strip('.json')))\n",
    "                columns['Year'].append(int(year))\n",
    "                columns['State'].append(state)\n",
    "top_trans = pd.DataFrame(columns)"
   ]
  },
  {
   "cell_type": "code",
   "execution_count": 16,
   "id": "cf31a195-649c-41ef-a452-4a9ea1eb3716",
   "metadata": {},
   "outputs": [
    {
     "data": {
      "text/html": [
       "<div>\n",
       "<style scoped>\n",
       "    .dataframe tbody tr th:only-of-type {\n",
       "        vertical-align: middle;\n",
       "    }\n",
       "\n",
       "    .dataframe tbody tr th {\n",
       "        vertical-align: top;\n",
       "    }\n",
       "\n",
       "    .dataframe thead th {\n",
       "        text-align: right;\n",
       "    }\n",
       "</style>\n",
       "<table border=\"1\" class=\"dataframe\">\n",
       "  <thead>\n",
       "    <tr style=\"text-align: right;\">\n",
       "      <th></th>\n",
       "      <th>State</th>\n",
       "      <th>Year</th>\n",
       "      <th>Quarter</th>\n",
       "      <th>Pincode</th>\n",
       "      <th>Transactions_Count</th>\n",
       "      <th>Transactions_Amount</th>\n",
       "    </tr>\n",
       "  </thead>\n",
       "  <tbody>\n",
       "    <tr>\n",
       "      <th>0</th>\n",
       "      <td>andaman-&amp;-nicobar-islands</td>\n",
       "      <td>2018</td>\n",
       "      <td>1</td>\n",
       "      <td>744101</td>\n",
       "      <td>1622</td>\n",
       "      <td>2.769298e+06</td>\n",
       "    </tr>\n",
       "    <tr>\n",
       "      <th>1</th>\n",
       "      <td>andaman-&amp;-nicobar-islands</td>\n",
       "      <td>2018</td>\n",
       "      <td>1</td>\n",
       "      <td>744103</td>\n",
       "      <td>1223</td>\n",
       "      <td>2.238042e+06</td>\n",
       "    </tr>\n",
       "    <tr>\n",
       "      <th>2</th>\n",
       "      <td>andaman-&amp;-nicobar-islands</td>\n",
       "      <td>2018</td>\n",
       "      <td>1</td>\n",
       "      <td>744102</td>\n",
       "      <td>969</td>\n",
       "      <td>3.519060e+06</td>\n",
       "    </tr>\n",
       "    <tr>\n",
       "      <th>3</th>\n",
       "      <td>andaman-&amp;-nicobar-islands</td>\n",
       "      <td>2018</td>\n",
       "      <td>1</td>\n",
       "      <td>744105</td>\n",
       "      <td>685</td>\n",
       "      <td>1.298561e+06</td>\n",
       "    </tr>\n",
       "    <tr>\n",
       "      <th>4</th>\n",
       "      <td>andaman-&amp;-nicobar-islands</td>\n",
       "      <td>2018</td>\n",
       "      <td>1</td>\n",
       "      <td>744104</td>\n",
       "      <td>340</td>\n",
       "      <td>1.039715e+06</td>\n",
       "    </tr>\n",
       "    <tr>\n",
       "      <th>...</th>\n",
       "      <td>...</td>\n",
       "      <td>...</td>\n",
       "      <td>...</td>\n",
       "      <td>...</td>\n",
       "      <td>...</td>\n",
       "      <td>...</td>\n",
       "    </tr>\n",
       "    <tr>\n",
       "      <th>7848</th>\n",
       "      <td>west-bengal</td>\n",
       "      <td>2023</td>\n",
       "      <td>2</td>\n",
       "      <td>700001</td>\n",
       "      <td>2918444</td>\n",
       "      <td>6.259877e+09</td>\n",
       "    </tr>\n",
       "    <tr>\n",
       "      <th>7849</th>\n",
       "      <td>west-bengal</td>\n",
       "      <td>2023</td>\n",
       "      <td>2</td>\n",
       "      <td>721301</td>\n",
       "      <td>2910870</td>\n",
       "      <td>4.458107e+09</td>\n",
       "    </tr>\n",
       "    <tr>\n",
       "      <th>7850</th>\n",
       "      <td>west-bengal</td>\n",
       "      <td>2023</td>\n",
       "      <td>2</td>\n",
       "      <td>700039</td>\n",
       "      <td>2886562</td>\n",
       "      <td>4.662887e+09</td>\n",
       "    </tr>\n",
       "    <tr>\n",
       "      <th>7851</th>\n",
       "      <td>west-bengal</td>\n",
       "      <td>2023</td>\n",
       "      <td>2</td>\n",
       "      <td>700015</td>\n",
       "      <td>2774383</td>\n",
       "      <td>4.372975e+09</td>\n",
       "    </tr>\n",
       "    <tr>\n",
       "      <th>7852</th>\n",
       "      <td>west-bengal</td>\n",
       "      <td>2023</td>\n",
       "      <td>2</td>\n",
       "      <td>700014</td>\n",
       "      <td>2757479</td>\n",
       "      <td>5.108638e+09</td>\n",
       "    </tr>\n",
       "  </tbody>\n",
       "</table>\n",
       "<p>7853 rows × 6 columns</p>\n",
       "</div>"
      ],
      "text/plain": [
       "                          State  Year  Quarter Pincode  Transactions_Count  \\\n",
       "0     andaman-&-nicobar-islands  2018        1  744101                1622   \n",
       "1     andaman-&-nicobar-islands  2018        1  744103                1223   \n",
       "2     andaman-&-nicobar-islands  2018        1  744102                 969   \n",
       "3     andaman-&-nicobar-islands  2018        1  744105                 685   \n",
       "4     andaman-&-nicobar-islands  2018        1  744104                 340   \n",
       "...                         ...   ...      ...     ...                 ...   \n",
       "7848                west-bengal  2023        2  700001             2918444   \n",
       "7849                west-bengal  2023        2  721301             2910870   \n",
       "7850                west-bengal  2023        2  700039             2886562   \n",
       "7851                west-bengal  2023        2  700015             2774383   \n",
       "7852                west-bengal  2023        2  700014             2757479   \n",
       "\n",
       "      Transactions_Amount  \n",
       "0            2.769298e+06  \n",
       "1            2.238042e+06  \n",
       "2            3.519060e+06  \n",
       "3            1.298561e+06  \n",
       "4            1.039715e+06  \n",
       "...                   ...  \n",
       "7848         6.259877e+09  \n",
       "7849         4.458107e+09  \n",
       "7850         4.662887e+09  \n",
       "7851         4.372975e+09  \n",
       "7852         5.108638e+09  \n",
       "\n",
       "[7853 rows x 6 columns]"
      ]
     },
     "execution_count": 16,
     "metadata": {},
     "output_type": "execute_result"
    }
   ],
   "source": [
    "top_trans"
   ]
  },
  {
   "cell_type": "code",
   "execution_count": null,
   "id": "4385f09b-4790-4271-9075-0b4f842e8852",
   "metadata": {},
   "outputs": [],
   "source": []
  },
  {
   "cell_type": "markdown",
   "id": "5904186f-646d-44e7-b6d4-d2d21434925e",
   "metadata": {
    "tags": []
   },
   "source": [
    "# Top  Users"
   ]
  },
  {
   "cell_type": "code",
   "execution_count": 17,
   "id": "e9fe693c-f189-4fb7-a6f2-54b2c0f96664",
   "metadata": {},
   "outputs": [
    {
     "data": {
      "application/json": {
       "code": "SUCCESS",
       "data": {
        "districts": [
         {
          "name": "north twenty four parganas",
          "registeredUsers": 4079270
         },
         {
          "name": "kolkata",
          "registeredUsers": 2941189
         },
         {
          "name": "south twenty four parganas",
          "registeredUsers": 1993465
         },
         {
          "name": "murshidabad",
          "registeredUsers": 1943677
         },
         {
          "name": "hooghly",
          "registeredUsers": 1717832
         },
         {
          "name": "howrah",
          "registeredUsers": 1546777
         },
         {
          "name": "nadia",
          "registeredUsers": 1482400
         },
         {
          "name": "purba medinipur",
          "registeredUsers": 1468608
         },
         {
          "name": "paschim medinipur",
          "registeredUsers": 1328693
         },
         {
          "name": "purba bardhaman",
          "registeredUsers": 1221383
         }
        ],
        "pincodes": [
         {
          "name": "711101",
          "registeredUsers": 176861
         },
         {
          "name": "700006",
          "registeredUsers": 150098
         },
         {
          "name": "700135",
          "registeredUsers": 135679
         },
         {
          "name": "700156",
          "registeredUsers": 123670
         },
         {
          "name": "700039",
          "registeredUsers": 118190
         },
         {
          "name": "700015",
          "registeredUsers": 117690
         },
         {
          "name": "742304",
          "registeredUsers": 114746
         },
         {
          "name": "721101",
          "registeredUsers": 114293
         },
         {
          "name": "700150",
          "registeredUsers": 110694
         },
         {
          "name": "700091",
          "registeredUsers": 110637
         }
        ],
        "states": null
       },
       "responseTimestamp": 1692619321520,
       "success": true
      },
      "text/plain": [
       "<IPython.core.display.JSON object>"
      ]
     },
     "execution_count": 17,
     "metadata": {
      "application/json": {
       "expanded": false,
       "root": "root"
      }
     },
     "output_type": "execute_result"
    }
   ],
   "source": [
    "path = 'C:/Users/kisho/PhonePe/pulse/data/top/user/country/india/state/'\n",
    "agg_states_list = os.listdir(path)\n",
    "\n",
    "for state in agg_states_list:\n",
    "    cur_state = path+state+'/'\n",
    "    agg_years_list = os.listdir(cur_state)\n",
    "    \n",
    "    for year in agg_years_list:\n",
    "        cur_year = cur_state+year+'/'\n",
    "        agg_files = os.listdir(cur_year)\n",
    "        \n",
    "        for file in agg_files:\n",
    "            cur_file = cur_year+file\n",
    "            d = open(cur_file,'r')\n",
    "            P = json.load(d)\n",
    "JSON(P)"
   ]
  },
  {
   "cell_type": "code",
   "execution_count": 18,
   "id": "ca07e884-e7df-4436-88aa-3c210daa8692",
   "metadata": {},
   "outputs": [],
   "source": [
    "path = 'C:/Users/kisho/PhonePe/pulse/data/top/user/country/india/state/'\n",
    "agg_states_list = os.listdir(path)\n",
    "\n",
    "columns = {'State':[],'Year':[],'Quarter':[],'Pincode':[],'Registered_Users':[]}\n",
    "\n",
    "for state in agg_states_list:\n",
    "    cur_state = path+state+'/'\n",
    "    agg_years_list = os.listdir(cur_state)\n",
    "    \n",
    "    for year in agg_years_list:\n",
    "        cur_year = cur_state+year+'/'\n",
    "        agg_files = os.listdir(cur_year)\n",
    "        \n",
    "        for file in agg_files:\n",
    "            cur_file = cur_year+file\n",
    "            d = open(cur_file,'r')\n",
    "            P = json.load(d)\n",
    "\n",
    "            for i in P['data']['pincodes']:\n",
    "                pincode = i['name']\n",
    "                registeredUsers = i['registeredUsers']\n",
    "                \n",
    "                columns['Pincode'].append(pincode)\n",
    "                columns['Registered_Users'].append(registeredUsers)\n",
    "                columns['Quarter'].append(int(file.strip('.json')))\n",
    "                columns['Year'].append(int(year))\n",
    "                columns['State'].append(state)\n",
    "top_users = pd.DataFrame(columns)              "
   ]
  },
  {
   "cell_type": "code",
   "execution_count": 19,
   "id": "99ec101b-a43c-4d60-aa4b-c0fde5f21087",
   "metadata": {},
   "outputs": [
    {
     "data": {
      "text/html": [
       "<div>\n",
       "<style scoped>\n",
       "    .dataframe tbody tr th:only-of-type {\n",
       "        vertical-align: middle;\n",
       "    }\n",
       "\n",
       "    .dataframe tbody tr th {\n",
       "        vertical-align: top;\n",
       "    }\n",
       "\n",
       "    .dataframe thead th {\n",
       "        text-align: right;\n",
       "    }\n",
       "</style>\n",
       "<table border=\"1\" class=\"dataframe\">\n",
       "  <thead>\n",
       "    <tr style=\"text-align: right;\">\n",
       "      <th></th>\n",
       "      <th>State</th>\n",
       "      <th>Year</th>\n",
       "      <th>Quarter</th>\n",
       "      <th>Pincode</th>\n",
       "      <th>Registered_Users</th>\n",
       "    </tr>\n",
       "  </thead>\n",
       "  <tbody>\n",
       "    <tr>\n",
       "      <th>0</th>\n",
       "      <td>andaman-&amp;-nicobar-islands</td>\n",
       "      <td>2018</td>\n",
       "      <td>1</td>\n",
       "      <td>744103</td>\n",
       "      <td>1608</td>\n",
       "    </tr>\n",
       "    <tr>\n",
       "      <th>1</th>\n",
       "      <td>andaman-&amp;-nicobar-islands</td>\n",
       "      <td>2018</td>\n",
       "      <td>1</td>\n",
       "      <td>744101</td>\n",
       "      <td>1108</td>\n",
       "    </tr>\n",
       "    <tr>\n",
       "      <th>2</th>\n",
       "      <td>andaman-&amp;-nicobar-islands</td>\n",
       "      <td>2018</td>\n",
       "      <td>1</td>\n",
       "      <td>744105</td>\n",
       "      <td>1075</td>\n",
       "    </tr>\n",
       "    <tr>\n",
       "      <th>3</th>\n",
       "      <td>andaman-&amp;-nicobar-islands</td>\n",
       "      <td>2018</td>\n",
       "      <td>1</td>\n",
       "      <td>744102</td>\n",
       "      <td>1006</td>\n",
       "    </tr>\n",
       "    <tr>\n",
       "      <th>4</th>\n",
       "      <td>andaman-&amp;-nicobar-islands</td>\n",
       "      <td>2018</td>\n",
       "      <td>1</td>\n",
       "      <td>744104</td>\n",
       "      <td>272</td>\n",
       "    </tr>\n",
       "    <tr>\n",
       "      <th>...</th>\n",
       "      <td>...</td>\n",
       "      <td>...</td>\n",
       "      <td>...</td>\n",
       "      <td>...</td>\n",
       "      <td>...</td>\n",
       "    </tr>\n",
       "    <tr>\n",
       "      <th>7849</th>\n",
       "      <td>west-bengal</td>\n",
       "      <td>2023</td>\n",
       "      <td>2</td>\n",
       "      <td>700015</td>\n",
       "      <td>117690</td>\n",
       "    </tr>\n",
       "    <tr>\n",
       "      <th>7850</th>\n",
       "      <td>west-bengal</td>\n",
       "      <td>2023</td>\n",
       "      <td>2</td>\n",
       "      <td>742304</td>\n",
       "      <td>114746</td>\n",
       "    </tr>\n",
       "    <tr>\n",
       "      <th>7851</th>\n",
       "      <td>west-bengal</td>\n",
       "      <td>2023</td>\n",
       "      <td>2</td>\n",
       "      <td>721101</td>\n",
       "      <td>114293</td>\n",
       "    </tr>\n",
       "    <tr>\n",
       "      <th>7852</th>\n",
       "      <td>west-bengal</td>\n",
       "      <td>2023</td>\n",
       "      <td>2</td>\n",
       "      <td>700150</td>\n",
       "      <td>110694</td>\n",
       "    </tr>\n",
       "    <tr>\n",
       "      <th>7853</th>\n",
       "      <td>west-bengal</td>\n",
       "      <td>2023</td>\n",
       "      <td>2</td>\n",
       "      <td>700091</td>\n",
       "      <td>110637</td>\n",
       "    </tr>\n",
       "  </tbody>\n",
       "</table>\n",
       "<p>7854 rows × 5 columns</p>\n",
       "</div>"
      ],
      "text/plain": [
       "                          State  Year  Quarter Pincode  Registered_Users\n",
       "0     andaman-&-nicobar-islands  2018        1  744103              1608\n",
       "1     andaman-&-nicobar-islands  2018        1  744101              1108\n",
       "2     andaman-&-nicobar-islands  2018        1  744105              1075\n",
       "3     andaman-&-nicobar-islands  2018        1  744102              1006\n",
       "4     andaman-&-nicobar-islands  2018        1  744104               272\n",
       "...                         ...   ...      ...     ...               ...\n",
       "7849                west-bengal  2023        2  700015            117690\n",
       "7850                west-bengal  2023        2  742304            114746\n",
       "7851                west-bengal  2023        2  721101            114293\n",
       "7852                west-bengal  2023        2  700150            110694\n",
       "7853                west-bengal  2023        2  700091            110637\n",
       "\n",
       "[7854 rows x 5 columns]"
      ]
     },
     "execution_count": 19,
     "metadata": {},
     "output_type": "execute_result"
    }
   ],
   "source": [
    "top_users"
   ]
  },
  {
   "cell_type": "code",
   "execution_count": null,
   "id": "08d85742-ca76-417a-91e1-2bcb83b3ef14",
   "metadata": {},
   "outputs": [],
   "source": []
  },
  {
   "cell_type": "code",
   "execution_count": 20,
   "id": "6c9a2d39",
   "metadata": {},
   "outputs": [],
   "source": [
    "mydb = mysql.connect(host = 'localhost',user='root',password='Kishore@95')\n",
    "mycursor = mydb.cursor()"
   ]
  },
  {
   "cell_type": "code",
   "execution_count": 21,
   "id": "69644422",
   "metadata": {},
   "outputs": [],
   "source": [
    "mycursor.execute('CREATE DATABASE Phonepe')"
   ]
  },
  {
   "cell_type": "code",
   "execution_count": 22,
   "id": "29516072",
   "metadata": {},
   "outputs": [
    {
     "data": {
      "text/plain": [
       "[('information_schema',),\n",
       " ('mysql',),\n",
       " ('performance_schema',),\n",
       " ('phonepe',),\n",
       " ('sys',),\n",
       " ('youtube_details',)]"
      ]
     },
     "execution_count": 22,
     "metadata": {},
     "output_type": "execute_result"
    }
   ],
   "source": [
    "mycursor.execute('SHOW databases')\n",
    "mycursor.fetchall()"
   ]
  },
  {
   "cell_type": "code",
   "execution_count": 23,
   "id": "d2b0b8a8",
   "metadata": {},
   "outputs": [],
   "source": [
    "mycursor.execute('Use Phonepe')"
   ]
  },
  {
   "cell_type": "code",
   "execution_count": 24,
   "id": "64df1ff5",
   "metadata": {},
   "outputs": [],
   "source": [
    "table1 = '''Create Table aggregate_transactions(\n",
    "                        state VARCHAR(255),\n",
    "                        year INT,\n",
    "                        quarter INT,\n",
    "                        transaction_type VARCHAR(255),\n",
    "                        transactions_count INT,\n",
    "                        transactions_amount DOUBLE\n",
    "    )'''\n",
    "\n",
    "table2 = '''Create Table aggregate_users(\n",
    "                        state VARCHAR(255),\n",
    "                        year INT,\n",
    "                        quarter INT,\n",
    "                        brand VARCHAR(255),\n",
    "                        users_count INT,\n",
    "                        percentage DOUBLE\n",
    "    )'''\n",
    "\n",
    "table3 = '''Create Table map_transactions(\n",
    "                        state VARCHAR(255),\n",
    "                        year INT,\n",
    "                        quarter INT,\n",
    "                        district VARCHAR(255),\n",
    "                        transactions_count INT,\n",
    "                        transactions_amount DOUBLE\n",
    "    )'''\n",
    "\n",
    "table4 = '''Create Table map_users(\n",
    "                        state VARCHAR(255),\n",
    "                        year INT,\n",
    "                        quarter INT,\n",
    "                        district VARCHAR(255),\n",
    "                        registered_users INT,\n",
    "                        app_opens INT\n",
    "    )'''\n",
    "\n",
    "table5 = '''Create Table top_transactions(\n",
    "                        state VARCHAR(255),\n",
    "                        year INT,\n",
    "                        quarter INT,\n",
    "                        pincode INT,\n",
    "                        transactions_count INT,\n",
    "                        transactions_amount DOUBLE\n",
    "    )'''\n",
    "\n",
    "table6 = '''Create Table top_users(\n",
    "                        state VARCHAR(255),\n",
    "                        year INT,\n",
    "                        quarter INT,\n",
    "                        pincode INT,\n",
    "                        registered_users INT\n",
    "    )'''\n",
    "tables = [table1,table2,table3,table4,table5,table6]"
   ]
  },
  {
   "cell_type": "markdown",
   "id": "de60b40d",
   "metadata": {},
   "source": [
    "for i in tables:\n",
    "    mycursor.execute(i)"
   ]
  },
  {
   "cell_type": "code",
   "execution_count": null,
   "id": "5b3ec309",
   "metadata": {},
   "outputs": [],
   "source": [
    "mycursor.execute('Show tables')\n",
    "mycursor.fetchall()"
   ]
  },
  {
   "cell_type": "raw",
   "id": "23153f9b",
   "metadata": {},
   "source": [
    "rows = list(agg_trans.itertuples(index=False, name=None))\n",
    "for i in rows:\n",
    "    query = 'INSERT INTO aggregate_transactions VALUES(%s,%s,%s,%s,%s,%s)'\n",
    "    mycursor.execute(query,i)\n",
    "    mydb.commit()\n",
    "    \n",
    "rows = list(agg_users.itertuples(index=False, name=None))\n",
    "for i in rows:\n",
    "    query = 'INSERT INTO aggregate_users VALUES(%s,%s,%s,%s,%s,%s)'\n",
    "    mycursor.execute(query,i)\n",
    "    mydb.commit()\n",
    "    \n",
    "rows = list(map_trans.itertuples(index=False, name=None))\n",
    "for i in rows:\n",
    "    query = 'INSERT INTO map_transactions VALUES(%s,%s,%s,%s,%s,%s)'\n",
    "    mycursor.execute(query,i)\n",
    "    mydb.commit()\n",
    "    \n",
    "rows = list(map_users.itertuples(index=False, name=None))\n",
    "for i in rows:\n",
    "    query = 'INSERT INTO map_users VALUES(%s,%s,%s,%s,%s,%s)'\n",
    "    mycursor.execute(query,i)\n",
    "    mydb.commit()\n",
    "    \n",
    "rows = list(top_trans.itertuples(index=False, name=None))\n",
    "for i in rows:\n",
    "    query = 'INSERT INTO top_transactions VALUES(%s,%s,%s,%s,%s,%s)'\n",
    "    mycursor.execute(query,i)\n",
    "    mydb.commit()\n",
    "\n",
    "rows = list(top_users.itertuples(index=False, name=None))\n",
    "for i in rows:\n",
    "    query = 'INSERT INTO top_users VALUES(%s,%s,%s,%s,%s)'\n",
    "    mycursor.execute(query,i)\n",
    "    mydb.commit()"
   ]
  },
  {
   "cell_type": "code",
   "execution_count": null,
   "id": "837a3f20",
   "metadata": {},
   "outputs": [],
   "source": []
  }
 ],
 "metadata": {
  "kernelspec": {
   "display_name": "Python 3 (ipykernel)",
   "language": "python",
   "name": "python3"
  },
  "language_info": {
   "codemirror_mode": {
    "name": "ipython",
    "version": 3
   },
   "file_extension": ".py",
   "mimetype": "text/x-python",
   "name": "python",
   "nbconvert_exporter": "python",
   "pygments_lexer": "ipython3",
   "version": "3.10.9"
  }
 },
 "nbformat": 4,
 "nbformat_minor": 5
}
