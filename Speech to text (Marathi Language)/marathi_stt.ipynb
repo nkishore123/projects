{
  "nbformat": 4,
  "nbformat_minor": 0,
  "metadata": {
    "colab": {
      "provenance": [],
      "gpuType": "T4"
    },
    "kernelspec": {
      "name": "python3",
      "display_name": "Python 3"
    },
    "language_info": {
      "name": "python"
    },
    "accelerator": "GPU"
  },
  "cells": [
    {
      "cell_type": "code",
      "source": [
        "pip install accelerate"
      ],
      "metadata": {
        "id": "DgLbffiMnfFW"
      },
      "execution_count": null,
      "outputs": []
    },
    {
      "cell_type": "code",
      "source": [
        "pip install jiwer"
      ],
      "metadata": {
        "id": "0RJE2iI_w4-I"
      },
      "execution_count": null,
      "outputs": []
    },
    {
      "cell_type": "code",
      "source": [
        "from google.colab import drive\n",
        "drive.mount('/content/drive')"
      ],
      "metadata": {
        "id": "fLb6jhEX8hCx",
        "outputId": "1136af8a-77e4-4e2b-f2a3-08163aa9a87b",
        "colab": {
          "base_uri": "https://localhost:8080/"
        }
      },
      "execution_count": 5,
      "outputs": [
        {
          "output_type": "stream",
          "name": "stdout",
          "text": [
            "Mounted at /content/drive\n"
          ]
        }
      ]
    },
    {
      "cell_type": "code",
      "source": [
        "import numpy as np\n",
        "import os\n",
        "import torch\n",
        "from transformers import AutoModelForSpeechSeq2Seq, AutoProcessor, pipeline"
      ],
      "metadata": {
        "id": "6ECUoVKNhkLk"
      },
      "execution_count": 6,
      "outputs": []
    },
    {
      "cell_type": "code",
      "source": [
        "import warnings\n",
        "warnings.filterwarnings('ignore')"
      ],
      "metadata": {
        "id": "4zwcJ7mhO0Z4"
      },
      "execution_count": 7,
      "outputs": []
    },
    {
      "cell_type": "code",
      "source": [
        "device = \"cuda:0\" if torch.cuda.is_available() else \"cpu\"\n",
        "torch_dtype = torch.float16 if torch.cuda.is_available() else torch.float32"
      ],
      "metadata": {
        "id": "s8coU-DShmrJ"
      },
      "execution_count": 8,
      "outputs": []
    },
    {
      "cell_type": "code",
      "source": [
        "model_id = \"Aditya02/Vistar_Marathi_Model\"\n",
        "\n",
        "model = AutoModelForSpeechSeq2Seq.from_pretrained(\n",
        "    model_id, low_cpu_mem_usage=True,torch_dtype = torch_dtype\n",
        ")\n",
        "model.to(device)\n",
        "\n",
        "processor = AutoProcessor.from_pretrained(model_id)"
      ],
      "metadata": {
        "id": "uUrHf64xhtJ8"
      },
      "execution_count": null,
      "outputs": []
    },
    {
      "cell_type": "code",
      "source": [
        "pipe = pipeline(\n",
        "    \"automatic-speech-recognition\",\n",
        "    model=model,\n",
        "    tokenizer=processor.tokenizer,\n",
        "    feature_extractor=processor.feature_extractor,\n",
        "    max_new_tokens=128,\n",
        "    chunk_length_s=30,\n",
        "    batch_size=16,\n",
        "    torch_dtype = torch_dtype,\n",
        "    device=device\n",
        ")"
      ],
      "metadata": {
        "id": "gR8v6gGmhxGO"
      },
      "execution_count": 10,
      "outputs": []
    },
    {
      "cell_type": "code",
      "source": [
        "directory = '/content/drive/MyDrive/common_voice_test'\n",
        "\n",
        "file_names = []\n",
        "for filename in os.listdir(directory):\n",
        "  file_names.append(filename)\n",
        "file_names.sort()\n",
        "file_names.reverse()\n",
        "file_names.pop(0)"
      ],
      "metadata": {
        "id": "5yLZVNbn_3dr"
      },
      "execution_count": null,
      "outputs": []
    },
    {
      "cell_type": "code",
      "source": [
        "predicted_texts=[]\n",
        "for file_name in file_names:\n",
        "  file_path = os.path.join(directory,file_name)\n",
        "  result = pipe(file_path)\n",
        "  predicted_texts.append(result['text'])"
      ],
      "metadata": {
        "id": "KQI4GFgv0lT9"
      },
      "execution_count": null,
      "outputs": []
    },
    {
      "cell_type": "code",
      "source": [
        "len(predicted_texts)"
      ],
      "metadata": {
        "id": "ZPo6TBoXdeQ8"
      },
      "execution_count": null,
      "outputs": []
    },
    {
      "cell_type": "code",
      "source": [
        "reference_file = '/content/drive/MyDrive/common_voice_test/trans.txt'\n",
        "reference_texts = []\n",
        "with open(reference_file,'r', encoding='utf-8') as f:\n",
        "    for line in f:\n",
        "      text = line.strip().split('\\t')\n",
        "      reference_texts.append(text[1])"
      ],
      "metadata": {
        "id": "yCzSvYjJVSr0"
      },
      "execution_count": null,
      "outputs": []
    },
    {
      "cell_type": "code",
      "source": [
        "len(reference_texts)"
      ],
      "metadata": {
        "id": "AIBWLv8AYMCo"
      },
      "execution_count": null,
      "outputs": []
    },
    {
      "cell_type": "code",
      "source": [
        "errors = []\n",
        "for i in range(len(predicted_texts)):\n",
        "  error = jiwer.wer(reference_texts[i], predicted_texts[i])\n",
        "  errors.append(error)"
      ],
      "metadata": {
        "id": "w0WIIlhkaElO"
      },
      "execution_count": null,
      "outputs": []
    },
    {
      "cell_type": "code",
      "source": [
        "len(errors)"
      ],
      "metadata": {
        "id": "J_--Q1Qcdixu"
      },
      "execution_count": null,
      "outputs": []
    },
    {
      "cell_type": "code",
      "source": [
        "print(np.mean(errors))"
      ],
      "metadata": {
        "colab": {
          "base_uri": "https://localhost:8080/"
        },
        "id": "3aUp0FuLMeus",
        "outputId": "b7d167d8-d752-4b0f-b577-96efba4a7a5a"
      },
      "execution_count": null,
      "outputs": [
        {
          "output_type": "execute_result",
          "data": {
            "text/plain": [
              "0.22390942390942387"
            ]
          },
          "metadata": {},
          "execution_count": 69
        }
      ]
    }
  ]
}